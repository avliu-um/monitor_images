{
 "cells": [
  {
   "cell_type": "markdown",
   "id": "6b6482a3-be03-41d5-b093-e2320e840816",
   "metadata": {},
   "source": [
    "# Explore third party reverse image search API"
   ]
  },
  {
   "cell_type": "code",
   "execution_count": null,
   "id": "10accbf3-d575-4372-bea3-6611f64ee4bc",
   "metadata": {},
   "outputs": [],
   "source": []
  },
  {
   "cell_type": "code",
   "execution_count": 6,
   "id": "3caabcb8",
   "metadata": {},
   "outputs": [
    {
     "name": "stdout",
     "output_type": "stream",
     "text": [
      "Collecting google-search-results\n",
      "  Downloading google_search_results-2.4.2.tar.gz (18 kB)\n",
      "  Installing build dependencies ... \u001b[?25ldone\n",
      "\u001b[?25h  Getting requirements to build wheel ... \u001b[?25ldone\n",
      "\u001b[?25h  Preparing metadata (pyproject.toml) ... \u001b[?25ldone\n",
      "\u001b[?25hRequirement already satisfied: requests in /Users/avliu/Dropbox (University of Michigan)/projects/ev/env/lib/python3.10/site-packages (from google-search-results) (2.31.0)\n",
      "Requirement already satisfied: charset-normalizer<4,>=2 in /Users/avliu/Dropbox (University of Michigan)/projects/ev/env/lib/python3.10/site-packages (from requests->google-search-results) (3.1.0)\n",
      "Requirement already satisfied: idna<4,>=2.5 in /Users/avliu/Dropbox (University of Michigan)/projects/ev/env/lib/python3.10/site-packages (from requests->google-search-results) (3.4)\n",
      "Requirement already satisfied: urllib3<3,>=1.21.1 in /Users/avliu/Dropbox (University of Michigan)/projects/ev/env/lib/python3.10/site-packages (from requests->google-search-results) (1.26.16)\n",
      "Requirement already satisfied: certifi>=2017.4.17 in /Users/avliu/Dropbox (University of Michigan)/projects/ev/env/lib/python3.10/site-packages (from requests->google-search-results) (2023.5.7)\n",
      "Building wheels for collected packages: google-search-results\n",
      "  Building wheel for google-search-results (pyproject.toml) ... \u001b[?25ldone\n",
      "\u001b[?25h  Created wheel for google-search-results: filename=google_search_results-2.4.2-py3-none-any.whl size=32003 sha256=eed1b9251250c9d1a73eb6766afb2ecaba78fd64ce8b8dc805087e93d251c95f\n",
      "  Stored in directory: /Users/avliu/Library/Caches/pip/wheels/d3/b2/c3/03302d12bb44a2cdff3c9371f31b72c0c4e84b8d2285eeac53\n",
      "Successfully built google-search-results\n",
      "Installing collected packages: google-search-results\n",
      "Successfully installed google-search-results-2.4.2\n",
      "\n",
      "\u001b[1m[\u001b[0m\u001b[34;49mnotice\u001b[0m\u001b[1;39;49m]\u001b[0m\u001b[39;49m A new release of pip is available: \u001b[0m\u001b[31;49m23.2.1\u001b[0m\u001b[39;49m -> \u001b[0m\u001b[32;49m23.3\u001b[0m\n",
      "\u001b[1m[\u001b[0m\u001b[34;49mnotice\u001b[0m\u001b[1;39;49m]\u001b[0m\u001b[39;49m To update, run: \u001b[0m\u001b[32;49mpython -m pip install --upgrade pip\u001b[0m\n",
      "Note: you may need to restart the kernel to use updated packages.\n"
     ]
    }
   ],
   "source": [
    "pip install google-search-results"
   ]
  },
  {
   "cell_type": "code",
   "execution_count": null,
   "id": "4467d431",
   "metadata": {},
   "outputs": [],
   "source": []
  },
  {
   "cell_type": "code",
   "execution_count": null,
   "id": "0cba063a",
   "metadata": {},
   "outputs": [],
   "source": []
  },
  {
   "cell_type": "code",
   "execution_count": null,
   "id": "724e1687",
   "metadata": {},
   "outputs": [],
   "source": []
  },
  {
   "cell_type": "code",
   "execution_count": 9,
   "id": "dc8a1229",
   "metadata": {},
   "outputs": [],
   "source": [
    "from serpapi import GoogleSearch\n",
    "\n",
    "params = {\n",
    "  \"engine\": \"google_reverse_image\",\n",
    "  \"image_url\": \"https://i.imgur.com/5bGzZi7.jpg\",\n",
    "  \"api_key\": \"a343725c8b3606d9a23203efab21a195b68cf064f0913b5724de9bcba1a6a7e9\"\n",
    "}\n",
    "\n",
    "search = GoogleSearch(params)\n",
    "results = search.get_dict()\n",
    "inline_images = results[\"inline_images\"]"
   ]
  },
  {
   "cell_type": "code",
   "execution_count": 11,
   "id": "a2c3c514",
   "metadata": {},
   "outputs": [
    {
     "data": {
      "text/plain": [
       "[{'link': 'https://www.google.com/search?sca_esv=576343061&tbs=simg%3ACAESmQIJxucrg1834YoajQILEKjU2AQaBggXCD0IQgwLELCMpwgaOgo4CAQSFIsypCSLL4o7rSzEB-4a7Ru_1CdUzGhq1iS6IOv4B1V4VYveWFTMDMADBgMY0g9FvkiAFMAQMCxCOrv4IGgoKCAgBEgSEmJxlDAsQne3BCRqeAQocCglnZW50bGVtYW7apYj2AwsKCS9tLzAxOXA1cQoYCgVldmVudNqliPYDCwoJL20vMDgxcGtqCiAKDHNtYXJ0IGNhc3VhbNqliPYDDAoKL20vMDI1c2t6NwogCg1ubyBleHByZXNzaW9u2qWI9gMLCgkvai85X2JocG4KIAoNc29waGlzdGljYXRlZNqliPYDCwoJL2EvNjlseW53DA&q=elon+musk&tbm=isch&sa=X&ved=2ahUKEwiXoMPNi5CCAxWVVKQEHTSpBWIQ5r0BegQIDBAA#imgrc=uXxZTQ65RqOpKM',\n",
       "  'source': 'https://www.bloomberg.com/news/articles/2022-12-30/elon-musk-becomes-first-person-ever-to-lose-200-billion',\n",
       "  'thumbnail': 'https://serpapi.com/searches/65387524f26ac64a7d4c6573/images/a4cb6bd5ecdec4cef4800ced7218bf612fccf6476a8de7cceb8f33724c7e6cbd.jpeg'},\n",
       " {'link': 'https://www.google.com/search?sca_esv=576343061&tbs=simg%3ACAESmQIJxucrg1834YoajQILEKjU2AQaBggXCD0IQgwLELCMpwgaOgo4CAQSFIsypCSLL4o7rSzEB-4a7Ru_1CdUzGhq1iS6IOv4B1V4VYveWFTMDMADBgMY0g9FvkiAFMAQMCxCOrv4IGgoKCAgBEgSEmJxlDAsQne3BCRqeAQocCglnZW50bGVtYW7apYj2AwsKCS9tLzAxOXA1cQoYCgVldmVudNqliPYDCwoJL20vMDgxcGtqCiAKDHNtYXJ0IGNhc3VhbNqliPYDDAoKL20vMDI1c2t6NwogCg1ubyBleHByZXNzaW9u2qWI9gMLCgkvai85X2JocG4KIAoNc29waGlzdGljYXRlZNqliPYDCwoJL2EvNjlseW53DA&q=elon+musk&tbm=isch&sa=X&ved=2ahUKEwiXoMPNi5CCAxWVVKQEHTSpBWIQ5r0BegQIHxAA#imgrc=UfQCv4EVFd_GgM',\n",
       "  'source': 'https://www.cnbc.com/2021/02/01/elon-musk-on-clubhouse-i-am-a-supporter-of-bitcoin.html',\n",
       "  'thumbnail': 'https://serpapi.com/searches/65387524f26ac64a7d4c6573/images/a4cb6bd5ecdec4cec8e82516257cee4cef869829637f9fb30822cd4de111bd9c.jpeg'},\n",
       " {'link': 'https://www.google.com/search?sca_esv=576343061&tbs=simg%3ACAESmQIJxucrg1834YoajQILEKjU2AQaBggXCD0IQgwLELCMpwgaOgo4CAQSFIsypCSLL4o7rSzEB-4a7Ru_1CdUzGhq1iS6IOv4B1V4VYveWFTMDMADBgMY0g9FvkiAFMAQMCxCOrv4IGgoKCAgBEgSEmJxlDAsQne3BCRqeAQocCglnZW50bGVtYW7apYj2AwsKCS9tLzAxOXA1cQoYCgVldmVudNqliPYDCwoJL20vMDgxcGtqCiAKDHNtYXJ0IGNhc3VhbNqliPYDDAoKL20vMDI1c2t6NwogCg1ubyBleHByZXNzaW9u2qWI9gMLCgkvai85X2JocG4KIAoNc29waGlzdGljYXRlZNqliPYDCwoJL2EvNjlseW53DA&q=elon+musk&tbm=isch&sa=X&ved=2ahUKEwiXoMPNi5CCAxWVVKQEHTSpBWIQ5r0BegQIDhAA#imgrc=ohPDc2jzVsdeVM',\n",
       "  'source': 'https://www.lemonde.fr/en/economy/article/2022/12/12/elon-musk-believes-he-can-do-everything-at-once-send-men-into-space-and-relaunch-twitter_6007471_19.html',\n",
       "  'thumbnail': 'https://serpapi.com/searches/65387524f26ac64a7d4c6573/images/a4cb6bd5ecdec4ce66844b5888686e874fab4549b835638ae32d4e5218f19806.jpeg'},\n",
       " {'link': 'https://www.google.com/search?sca_esv=576343061&tbs=simg%3ACAESmQIJxucrg1834YoajQILEKjU2AQaBggXCD0IQgwLELCMpwgaOgo4CAQSFIsypCSLL4o7rSzEB-4a7Ru_1CdUzGhq1iS6IOv4B1V4VYveWFTMDMADBgMY0g9FvkiAFMAQMCxCOrv4IGgoKCAgBEgSEmJxlDAsQne3BCRqeAQocCglnZW50bGVtYW7apYj2AwsKCS9tLzAxOXA1cQoYCgVldmVudNqliPYDCwoJL20vMDgxcGtqCiAKDHNtYXJ0IGNhc3VhbNqliPYDDAoKL20vMDI1c2t6NwogCg1ubyBleHByZXNzaW9u2qWI9gMLCgkvai85X2JocG4KIAoNc29waGlzdGljYXRlZNqliPYDCwoJL2EvNjlseW53DA&q=elon+musk&tbm=isch&sa=X&ved=2ahUKEwiXoMPNi5CCAxWVVKQEHTSpBWIQ5r0BegQIGRAA#imgrc=hQKMVBwV-MrsiM',\n",
       "  'source': 'https://www.wikiwand.com/en/Elon_Musk',\n",
       "  'thumbnail': 'https://serpapi.com/searches/65387524f26ac64a7d4c6573/images/a4cb6bd5ecdec4cec1fe13c0c444002582eae1a0ebdb21ad2fc010c83d61db7d.jpeg'},\n",
       " {'link': 'https://www.google.com/search?sca_esv=576343061&tbs=simg%3ACAESmQIJxucrg1834YoajQILEKjU2AQaBggXCD0IQgwLELCMpwgaOgo4CAQSFIsypCSLL4o7rSzEB-4a7Ru_1CdUzGhq1iS6IOv4B1V4VYveWFTMDMADBgMY0g9FvkiAFMAQMCxCOrv4IGgoKCAgBEgSEmJxlDAsQne3BCRqeAQocCglnZW50bGVtYW7apYj2AwsKCS9tLzAxOXA1cQoYCgVldmVudNqliPYDCwoJL20vMDgxcGtqCiAKDHNtYXJ0IGNhc3VhbNqliPYDDAoKL20vMDI1c2t6NwogCg1ubyBleHByZXNzaW9u2qWI9gMLCgkvai85X2JocG4KIAoNc29waGlzdGljYXRlZNqliPYDCwoJL2EvNjlseW53DA&q=elon+musk&tbm=isch&sa=X&ved=2ahUKEwiXoMPNi5CCAxWVVKQEHTSpBWIQ5r0BegQIIBAA#imgrc=pU4Nj724kIeE_M',\n",
       "  'source': 'https://news.sky.com/story/elon-musk-asks-twitter-followers-if-he-should-bring-back-vine-12734905',\n",
       "  'thumbnail': 'https://serpapi.com/searches/65387524f26ac64a7d4c6573/images/a4cb6bd5ecdec4cecac7c148cd541656baf3518815326882019ebde382b3a03e.jpeg'},\n",
       " {'link': 'https://www.google.com/search?sca_esv=576343061&tbs=simg%3ACAESmQIJxucrg1834YoajQILEKjU2AQaBggXCD0IQgwLELCMpwgaOgo4CAQSFIsypCSLL4o7rSzEB-4a7Ru_1CdUzGhq1iS6IOv4B1V4VYveWFTMDMADBgMY0g9FvkiAFMAQMCxCOrv4IGgoKCAgBEgSEmJxlDAsQne3BCRqeAQocCglnZW50bGVtYW7apYj2AwsKCS9tLzAxOXA1cQoYCgVldmVudNqliPYDCwoJL20vMDgxcGtqCiAKDHNtYXJ0IGNhc3VhbNqliPYDDAoKL20vMDI1c2t6NwogCg1ubyBleHByZXNzaW9u2qWI9gMLCgkvai85X2JocG4KIAoNc29waGlzdGljYXRlZNqliPYDCwoJL2EvNjlseW53DA&q=elon+musk&tbm=isch&sa=X&ved=2ahUKEwiXoMPNi5CCAxWVVKQEHTSpBWIQ5r0BegQIJBAA#imgrc=vQ0qFGZd2WQpIM',\n",
       "  'source': 'https://www.vox.com/identities/2019/9/30/20891314/elon-musk-tesla-labor-violation-nlrb',\n",
       "  'thumbnail': 'https://serpapi.com/searches/65387524f26ac64a7d4c6573/images/a4cb6bd5ecdec4ceb892444b82e31da11a7021e5e53d86a118330cf9a23b50e4.jpeg'},\n",
       " {'link': 'https://www.google.com/search?sca_esv=576343061&tbs=simg%3ACAESmQIJxucrg1834YoajQILEKjU2AQaBggXCD0IQgwLELCMpwgaOgo4CAQSFIsypCSLL4o7rSzEB-4a7Ru_1CdUzGhq1iS6IOv4B1V4VYveWFTMDMADBgMY0g9FvkiAFMAQMCxCOrv4IGgoKCAgBEgSEmJxlDAsQne3BCRqeAQocCglnZW50bGVtYW7apYj2AwsKCS9tLzAxOXA1cQoYCgVldmVudNqliPYDCwoJL20vMDgxcGtqCiAKDHNtYXJ0IGNhc3VhbNqliPYDDAoKL20vMDI1c2t6NwogCg1ubyBleHByZXNzaW9u2qWI9gMLCgkvai85X2JocG4KIAoNc29waGlzdGljYXRlZNqliPYDCwoJL2EvNjlseW53DA&q=elon+musk&tbm=isch&sa=X&ved=2ahUKEwiXoMPNi5CCAxWVVKQEHTSpBWIQ5r0BegQIDxAA#imgrc=cH_vj190DfzMeM',\n",
       "  'source': 'https://www.wsj.com/articles/elon-musk-says-twitter-bid-cant-move-forward-without-more-clarity-on-fake-accounts-11652775337',\n",
       "  'thumbnail': 'https://serpapi.com/searches/65387524f26ac64a7d4c6573/images/a4cb6bd5ecdec4ce87dd3b06a2062754c2d55da8a37e48008c264cc1a48f4d61.jpeg'},\n",
       " {'link': 'https://www.google.com/search?sca_esv=576343061&tbs=simg%3ACAESmQIJxucrg1834YoajQILEKjU2AQaBggXCD0IQgwLELCMpwgaOgo4CAQSFIsypCSLL4o7rSzEB-4a7Ru_1CdUzGhq1iS6IOv4B1V4VYveWFTMDMADBgMY0g9FvkiAFMAQMCxCOrv4IGgoKCAgBEgSEmJxlDAsQne3BCRqeAQocCglnZW50bGVtYW7apYj2AwsKCS9tLzAxOXA1cQoYCgVldmVudNqliPYDCwoJL20vMDgxcGtqCiAKDHNtYXJ0IGNhc3VhbNqliPYDDAoKL20vMDI1c2t6NwogCg1ubyBleHByZXNzaW9u2qWI9gMLCgkvai85X2JocG4KIAoNc29waGlzdGljYXRlZNqliPYDCwoJL2EvNjlseW53DA&q=elon+musk&tbm=isch&sa=X&ved=2ahUKEwiXoMPNi5CCAxWVVKQEHTSpBWIQ5r0BegQIFRAA#imgrc=_4gbYHBn94hiBM',\n",
       "  'source': 'https://www.npr.org/2022/11/21/1138064606/elon-musk-twitter-investors-fans',\n",
       "  'thumbnail': 'https://serpapi.com/searches/65387524f26ac64a7d4c6573/images/a4cb6bd5ecdec4ce96a0d7371d81f02634a9c0e6199a9af1fc1d9d9597576de0.jpeg'},\n",
       " {'link': 'https://www.google.com/search?sca_esv=576343061&tbs=simg%3ACAESmQIJxucrg1834YoajQILEKjU2AQaBggXCD0IQgwLELCMpwgaOgo4CAQSFIsypCSLL4o7rSzEB-4a7Ru_1CdUzGhq1iS6IOv4B1V4VYveWFTMDMADBgMY0g9FvkiAFMAQMCxCOrv4IGgoKCAgBEgSEmJxlDAsQne3BCRqeAQocCglnZW50bGVtYW7apYj2AwsKCS9tLzAxOXA1cQoYCgVldmVudNqliPYDCwoJL20vMDgxcGtqCiAKDHNtYXJ0IGNhc3VhbNqliPYDDAoKL20vMDI1c2t6NwogCg1ubyBleHByZXNzaW9u2qWI9gMLCgkvai85X2JocG4KIAoNc29waGlzdGljYXRlZNqliPYDCwoJL2EvNjlseW53DA&q=elon+musk&tbm=isch&sa=X&ved=2ahUKEwiXoMPNi5CCAxWVVKQEHTSpBWIQ5r0BegQIGxAA#imgrc=4IUYNGbzpeE6oM',\n",
       "  'source': 'https://www.cnbc.com/2023/05/15/elon-musk-still-needs-twitter-sitter-judge-rules.html',\n",
       "  'thumbnail': 'https://serpapi.com/searches/65387524f26ac64a7d4c6573/images/a4cb6bd5ecdec4cea1f58a59d0be368039f89721bd5686620b87d60b6ffb2fbd.jpeg'},\n",
       " {'link': 'https://www.google.com/search?sca_esv=576343061&tbs=simg%3ACAESmQIJxucrg1834YoajQILEKjU2AQaBggXCD0IQgwLELCMpwgaOgo4CAQSFIsypCSLL4o7rSzEB-4a7Ru_1CdUzGhq1iS6IOv4B1V4VYveWFTMDMADBgMY0g9FvkiAFMAQMCxCOrv4IGgoKCAgBEgSEmJxlDAsQne3BCRqeAQocCglnZW50bGVtYW7apYj2AwsKCS9tLzAxOXA1cQoYCgVldmVudNqliPYDCwoJL20vMDgxcGtqCiAKDHNtYXJ0IGNhc3VhbNqliPYDDAoKL20vMDI1c2t6NwogCg1ubyBleHByZXNzaW9u2qWI9gMLCgkvai85X2JocG4KIAoNc29waGlzdGljYXRlZNqliPYDCwoJL2EvNjlseW53DA&q=elon+musk&tbm=isch&sa=X&ved=2ahUKEwiXoMPNi5CCAxWVVKQEHTSpBWIQ5r0BegQIHhAA#imgrc=HdBXrokQzywNQM',\n",
       "  'source': 'https://finance.yahoo.com/news/elon-musk-says-neuralink-only-194031375.html',\n",
       "  'thumbnail': 'https://serpapi.com/searches/65387524f26ac64a7d4c6573/images/a4cb6bd5ecdec4cee23a123e855ad4678cdccf8d884e5332fc23db33f27389ab.jpeg'},\n",
       " {'link': 'https://www.google.com/search?sca_esv=576343061&tbs=simg%3ACAESmQIJxucrg1834YoajQILEKjU2AQaBggXCD0IQgwLELCMpwgaOgo4CAQSFIsypCSLL4o7rSzEB-4a7Ru_1CdUzGhq1iS6IOv4B1V4VYveWFTMDMADBgMY0g9FvkiAFMAQMCxCOrv4IGgoKCAgBEgSEmJxlDAsQne3BCRqeAQocCglnZW50bGVtYW7apYj2AwsKCS9tLzAxOXA1cQoYCgVldmVudNqliPYDCwoJL20vMDgxcGtqCiAKDHNtYXJ0IGNhc3VhbNqliPYDDAoKL20vMDI1c2t6NwogCg1ubyBleHByZXNzaW9u2qWI9gMLCgkvai85X2JocG4KIAoNc29waGlzdGljYXRlZNqliPYDCwoJL2EvNjlseW53DA&q=elon+musk&tbm=isch&sa=X&ved=2ahUKEwiXoMPNi5CCAxWVVKQEHTSpBWIQ5r0BegQIIRAA#imgrc=7aJX4omZxtL0CM',\n",
       "  'source': 'https://variety.com/2023/digital/news/twitter-renamed-x-elon-musk-1235677741/',\n",
       "  'thumbnail': 'https://serpapi.com/searches/65387524f26ac64a7d4c6573/images/a4cb6bd5ecdec4cee03bc080846c8f4de63ca0ffccda58b3e3617294e4dc3cfe.jpeg'},\n",
       " {'link': 'https://www.google.com/search?sca_esv=576343061&tbs=simg%3ACAESmQIJxucrg1834YoajQILEKjU2AQaBggXCD0IQgwLELCMpwgaOgo4CAQSFIsypCSLL4o7rSzEB-4a7Ru_1CdUzGhq1iS6IOv4B1V4VYveWFTMDMADBgMY0g9FvkiAFMAQMCxCOrv4IGgoKCAgBEgSEmJxlDAsQne3BCRqeAQocCglnZW50bGVtYW7apYj2AwsKCS9tLzAxOXA1cQoYCgVldmVudNqliPYDCwoJL20vMDgxcGtqCiAKDHNtYXJ0IGNhc3VhbNqliPYDDAoKL20vMDI1c2t6NwogCg1ubyBleHByZXNzaW9u2qWI9gMLCgkvai85X2JocG4KIAoNc29waGlzdGljYXRlZNqliPYDCwoJL2EvNjlseW53DA&q=elon+musk&tbm=isch&sa=X&ved=2ahUKEwiXoMPNi5CCAxWVVKQEHTSpBWIQ5r0BegQIIhAA#imgrc=dtuTMZJ7FGhi-M',\n",
       "  'source': 'https://www.independent.co.uk/arts-entertainment/tv/news/elon-musk-channel-4-documentary-b2080676.html',\n",
       "  'thumbnail': 'https://serpapi.com/searches/65387524f26ac64a7d4c6573/images/a4cb6bd5ecdec4ce842a813b69dbd4c81dc18411d78012b90a76a1ca5912c54d.jpeg'},\n",
       " {'link': 'https://www.google.com/search?sca_esv=576343061&tbs=simg%3ACAESmQIJxucrg1834YoajQILEKjU2AQaBggXCD0IQgwLELCMpwgaOgo4CAQSFIsypCSLL4o7rSzEB-4a7Ru_1CdUzGhq1iS6IOv4B1V4VYveWFTMDMADBgMY0g9FvkiAFMAQMCxCOrv4IGgoKCAgBEgSEmJxlDAsQne3BCRqeAQocCglnZW50bGVtYW7apYj2AwsKCS9tLzAxOXA1cQoYCgVldmVudNqliPYDCwoJL20vMDgxcGtqCiAKDHNtYXJ0IGNhc3VhbNqliPYDDAoKL20vMDI1c2t6NwogCg1ubyBleHByZXNzaW9u2qWI9gMLCgkvai85X2JocG4KIAoNc29waGlzdGljYXRlZNqliPYDCwoJL2EvNjlseW53DA&q=elon+musk&tbm=isch&sa=X&ved=2ahUKEwiXoMPNi5CCAxWVVKQEHTSpBWIQ5r0BegQIJRAA#imgrc=0QSxvLP6LEv-CM',\n",
       "  'source': 'https://www.rollingstone.com/culture/culture-news/elon-musk-fires-twitter-engineer-1234676828/',\n",
       "  'thumbnail': 'https://serpapi.com/searches/65387524f26ac64a7d4c6573/images/a4cb6bd5ecdec4ce6beb2933c078bc4272455c4c5b78d8bc3540d5d00f45f354.jpeg'},\n",
       " {'link': 'https://www.google.com/search?sca_esv=576343061&tbs=simg%3ACAESmQIJxucrg1834YoajQILEKjU2AQaBggXCD0IQgwLELCMpwgaOgo4CAQSFIsypCSLL4o7rSzEB-4a7Ru_1CdUzGhq1iS6IOv4B1V4VYveWFTMDMADBgMY0g9FvkiAFMAQMCxCOrv4IGgoKCAgBEgSEmJxlDAsQne3BCRqeAQocCglnZW50bGVtYW7apYj2AwsKCS9tLzAxOXA1cQoYCgVldmVudNqliPYDCwoJL20vMDgxcGtqCiAKDHNtYXJ0IGNhc3VhbNqliPYDDAoKL20vMDI1c2t6NwogCg1ubyBleHByZXNzaW9u2qWI9gMLCgkvai85X2JocG4KIAoNc29waGlzdGljYXRlZNqliPYDCwoJL2EvNjlseW53DA&q=elon+musk&tbm=isch&sa=X&ved=2ahUKEwiXoMPNi5CCAxWVVKQEHTSpBWIQ5r0BegQIIxAA#imgrc=razgLnbxUfBrgM',\n",
       "  'source': 'https://www.inc.com/larry-kim/50-innovation-amp;-success-quotes-from-spacex-founder-elon-musk.html',\n",
       "  'thumbnail': 'https://serpapi.com/searches/65387524f26ac64a7d4c6573/images/a4cb6bd5ecdec4cec18d298b4592fbb6409bc423127cffc9d923c00116072945.jpeg'},\n",
       " {'link': 'https://www.google.com/search?sca_esv=576343061&tbs=simg%3ACAESmQIJxucrg1834YoajQILEKjU2AQaBggXCD0IQgwLELCMpwgaOgo4CAQSFIsypCSLL4o7rSzEB-4a7Ru_1CdUzGhq1iS6IOv4B1V4VYveWFTMDMADBgMY0g9FvkiAFMAQMCxCOrv4IGgoKCAgBEgSEmJxlDAsQne3BCRqeAQocCglnZW50bGVtYW7apYj2AwsKCS9tLzAxOXA1cQoYCgVldmVudNqliPYDCwoJL20vMDgxcGtqCiAKDHNtYXJ0IGNhc3VhbNqliPYDDAoKL20vMDI1c2t6NwogCg1ubyBleHByZXNzaW9u2qWI9gMLCgkvai85X2JocG4KIAoNc29waGlzdGljYXRlZNqliPYDCwoJL2EvNjlseW53DA&q=elon+musk&tbm=isch&sa=X&ved=2ahUKEwiXoMPNi5CCAxWVVKQEHTSpBWIQ5r0BegQIEhAA#imgrc=tZR5GUkjeVH9_M',\n",
       "  'source': 'https://www.cnn.com/2022/10/11/business/elon-musk-ian-bremmer-putin-ukraine-intl-hnk/index.html',\n",
       "  'thumbnail': 'https://serpapi.com/searches/65387524f26ac64a7d4c6573/images/a4cb6bd5ecdec4ce618b75e0a53efde7d2da0fccba27d0eef03ad7ec87d610ea.jpeg'},\n",
       " {'link': 'https://www.google.com/search?sca_esv=576343061&tbs=simg%3ACAESmQIJxucrg1834YoajQILEKjU2AQaBggXCD0IQgwLELCMpwgaOgo4CAQSFIsypCSLL4o7rSzEB-4a7Ru_1CdUzGhq1iS6IOv4B1V4VYveWFTMDMADBgMY0g9FvkiAFMAQMCxCOrv4IGgoKCAgBEgSEmJxlDAsQne3BCRqeAQocCglnZW50bGVtYW7apYj2AwsKCS9tLzAxOXA1cQoYCgVldmVudNqliPYDCwoJL20vMDgxcGtqCiAKDHNtYXJ0IGNhc3VhbNqliPYDDAoKL20vMDI1c2t6NwogCg1ubyBleHByZXNzaW9u2qWI9gMLCgkvai85X2JocG4KIAoNc29waGlzdGljYXRlZNqliPYDCwoJL2EvNjlseW53DA&q=elon+musk&tbm=isch&sa=X&ved=2ahUKEwiXoMPNi5CCAxWVVKQEHTSpBWIQ5r0BegQIExAA#imgrc=hrH02jDhiHzL9M',\n",
       "  'source': 'https://www.wired.com/story/elon-musk-twitter-firehose/',\n",
       "  'thumbnail': 'https://serpapi.com/searches/65387524f26ac64a7d4c6573/images/a4cb6bd5ecdec4cec15a6506d9507c89c562de370e7fe32de8519383b5bda540.jpeg'},\n",
       " {'link': 'https://www.google.com/search?sca_esv=576343061&tbs=simg%3ACAESmQIJxucrg1834YoajQILEKjU2AQaBggXCD0IQgwLELCMpwgaOgo4CAQSFIsypCSLL4o7rSzEB-4a7Ru_1CdUzGhq1iS6IOv4B1V4VYveWFTMDMADBgMY0g9FvkiAFMAQMCxCOrv4IGgoKCAgBEgSEmJxlDAsQne3BCRqeAQocCglnZW50bGVtYW7apYj2AwsKCS9tLzAxOXA1cQoYCgVldmVudNqliPYDCwoJL20vMDgxcGtqCiAKDHNtYXJ0IGNhc3VhbNqliPYDDAoKL20vMDI1c2t6NwogCg1ubyBleHByZXNzaW9u2qWI9gMLCgkvai85X2JocG4KIAoNc29waGlzdGljYXRlZNqliPYDCwoJL2EvNjlseW53DA&q=elon+musk&tbm=isch&sa=X&ved=2ahUKEwiXoMPNi5CCAxWVVKQEHTSpBWIQ5r0BegQIFxAA#imgrc=BTm661nq50oAcM',\n",
       "  'source': 'https://www.businessinsider.com/elon-musk-wrong-about-fertility-rates-global-warming-demographers-say-2022-9',\n",
       "  'thumbnail': 'https://serpapi.com/searches/65387524f26ac64a7d4c6573/images/a4cb6bd5ecdec4ce566ada84edc35338eca1a8d55eab146f60ba1cddf8418b88.jpeg'},\n",
       " {'link': 'https://www.google.com/search?sca_esv=576343061&tbs=simg%3ACAESmQIJxucrg1834YoajQILEKjU2AQaBggXCD0IQgwLELCMpwgaOgo4CAQSFIsypCSLL4o7rSzEB-4a7Ru_1CdUzGhq1iS6IOv4B1V4VYveWFTMDMADBgMY0g9FvkiAFMAQMCxCOrv4IGgoKCAgBEgSEmJxlDAsQne3BCRqeAQocCglnZW50bGVtYW7apYj2AwsKCS9tLzAxOXA1cQoYCgVldmVudNqliPYDCwoJL20vMDgxcGtqCiAKDHNtYXJ0IGNhc3VhbNqliPYDDAoKL20vMDI1c2t6NwogCg1ubyBleHByZXNzaW9u2qWI9gMLCgkvai85X2JocG4KIAoNc29waGlzdGljYXRlZNqliPYDCwoJL2EvNjlseW53DA&q=elon+musk&tbm=isch&sa=X&ved=2ahUKEwiXoMPNi5CCAxWVVKQEHTSpBWIQ5r0BegQIGhAA#imgrc=XDptjmPygzjQfM',\n",
       "  'source': 'https://www.aroged.com/2023/10/03/elon-musk-turns-x-twitter-into-twitch-with-a-diablo-4-stream-that-didnt-go-as-well-as-it-should-have/',\n",
       "  'thumbnail': 'https://serpapi.com/searches/65387524f26ac64a7d4c6573/images/a4cb6bd5ecdec4cec268f22016ab0d2e0fd1ff308a829dd0a61ebacd7e027931.jpeg'},\n",
       " {'link': 'https://www.google.com/search?sca_esv=576343061&tbs=simg%3ACAESmQIJxucrg1834YoajQILEKjU2AQaBggXCD0IQgwLELCMpwgaOgo4CAQSFIsypCSLL4o7rSzEB-4a7Ru_1CdUzGhq1iS6IOv4B1V4VYveWFTMDMADBgMY0g9FvkiAFMAQMCxCOrv4IGgoKCAgBEgSEmJxlDAsQne3BCRqeAQocCglnZW50bGVtYW7apYj2AwsKCS9tLzAxOXA1cQoYCgVldmVudNqliPYDCwoJL20vMDgxcGtqCiAKDHNtYXJ0IGNhc3VhbNqliPYDDAoKL20vMDI1c2t6NwogCg1ubyBleHByZXNzaW9u2qWI9gMLCgkvai85X2JocG4KIAoNc29waGlzdGljYXRlZNqliPYDCwoJL2EvNjlseW53DA&q=elon+musk&tbm=isch&sa=X&ved=2ahUKEwiXoMPNi5CCAxWVVKQEHTSpBWIQ5r0BegQIHRAA#imgrc=KnITRoec8M9PZM',\n",
       "  'source': 'https://www.sfchronicle.com/bayarea/article/Elon-Musk-tweets-anti-LGBTQ-conspiracy-theory-17545123.php',\n",
       "  'thumbnail': 'https://serpapi.com/searches/65387524f26ac64a7d4c6573/images/a4cb6bd5ecdec4cedacb98e2ef8f3c1f87eb4f75663bd8c7b6668c490d1b95ac.jpeg'},\n",
       " {'link': 'https://www.google.com/search?sca_esv=576343061&tbs=simg%3ACAESmQIJxucrg1834YoajQILEKjU2AQaBggXCD0IQgwLELCMpwgaOgo4CAQSFIsypCSLL4o7rSzEB-4a7Ru_1CdUzGhq1iS6IOv4B1V4VYveWFTMDMADBgMY0g9FvkiAFMAQMCxCOrv4IGgoKCAgBEgSEmJxlDAsQne3BCRqeAQocCglnZW50bGVtYW7apYj2AwsKCS9tLzAxOXA1cQoYCgVldmVudNqliPYDCwoJL20vMDgxcGtqCiAKDHNtYXJ0IGNhc3VhbNqliPYDDAoKL20vMDI1c2t6NwogCg1ubyBleHByZXNzaW9u2qWI9gMLCgkvai85X2JocG4KIAoNc29waGlzdGljYXRlZNqliPYDCwoJL2EvNjlseW53DA&q=elon+musk&tbm=isch&sa=X&ved=2ahUKEwiXoMPNi5CCAxWVVKQEHTSpBWIQ5r0BegQIGBAA#imgrc=SdnNAjbDoz4QJM',\n",
       "  'source': 'https://www.cybersecurity-insiders.com/elon-musk-says-ai-machines-could-launch-their-own-cyber-attacks/',\n",
       "  'thumbnail': 'https://serpapi.com/searches/65387524f26ac64a7d4c6573/images/a4cb6bd5ecdec4ceba11e80e9cc4e4e55477c4bd547356880344c6c559bf3788.jpeg'},\n",
       " {'link': 'https://www.google.com/search?sca_esv=576343061&tbs=simg%3ACAESmQIJxucrg1834YoajQILEKjU2AQaBggXCD0IQgwLELCMpwgaOgo4CAQSFIsypCSLL4o7rSzEB-4a7Ru_1CdUzGhq1iS6IOv4B1V4VYveWFTMDMADBgMY0g9FvkiAFMAQMCxCOrv4IGgoKCAgBEgSEmJxlDAsQne3BCRqeAQocCglnZW50bGVtYW7apYj2AwsKCS9tLzAxOXA1cQoYCgVldmVudNqliPYDCwoJL20vMDgxcGtqCiAKDHNtYXJ0IGNhc3VhbNqliPYDDAoKL20vMDI1c2t6NwogCg1ubyBleHByZXNzaW9u2qWI9gMLCgkvai85X2JocG4KIAoNc29waGlzdGljYXRlZNqliPYDCwoJL2EvNjlseW53DA&q=elon+musk&tbm=isch&sa=X&ved=2ahUKEwiXoMPNi5CCAxWVVKQEHTSpBWIQ5r0BegQIChAA#imgrc=Ld47mA7NLYo0AM',\n",
       "  'source': 'https://www.upi.com/Top_News/World-News/2023/06/01/Elon-Musk-worlds-richest-man/5171685591125/',\n",
       "  'thumbnail': 'https://serpapi.com/searches/65387524f26ac64a7d4c6573/images/a4cb6bd5ecdec4ce3da0d09eee553267b1be79d92db204dc479ff418b05d5f06.jpeg'}]"
      ]
     },
     "execution_count": 11,
     "metadata": {},
     "output_type": "execute_result"
    }
   ],
   "source": [
    "inline_images"
   ]
  },
  {
   "cell_type": "code",
   "execution_count": 12,
   "id": "9389b3df",
   "metadata": {},
   "outputs": [
    {
     "data": {
      "text/plain": [
       "21"
      ]
     },
     "execution_count": 12,
     "metadata": {},
     "output_type": "execute_result"
    }
   ],
   "source": [
    "len(inline_images)"
   ]
  },
  {
   "cell_type": "code",
   "execution_count": 14,
   "id": "414f0455",
   "metadata": {},
   "outputs": [
    {
     "data": {
      "text/plain": [
       "['https://www.bloomberg.com/news/articles/2022-12-30/elon-musk-becomes-first-person-ever-to-lose-200-billion',\n",
       " 'https://www.cnbc.com/2021/02/01/elon-musk-on-clubhouse-i-am-a-supporter-of-bitcoin.html',\n",
       " 'https://www.lemonde.fr/en/economy/article/2022/12/12/elon-musk-believes-he-can-do-everything-at-once-send-men-into-space-and-relaunch-twitter_6007471_19.html',\n",
       " 'https://www.wikiwand.com/en/Elon_Musk',\n",
       " 'https://news.sky.com/story/elon-musk-asks-twitter-followers-if-he-should-bring-back-vine-12734905',\n",
       " 'https://www.vox.com/identities/2019/9/30/20891314/elon-musk-tesla-labor-violation-nlrb',\n",
       " 'https://www.wsj.com/articles/elon-musk-says-twitter-bid-cant-move-forward-without-more-clarity-on-fake-accounts-11652775337',\n",
       " 'https://www.npr.org/2022/11/21/1138064606/elon-musk-twitter-investors-fans',\n",
       " 'https://www.cnbc.com/2023/05/15/elon-musk-still-needs-twitter-sitter-judge-rules.html',\n",
       " 'https://finance.yahoo.com/news/elon-musk-says-neuralink-only-194031375.html',\n",
       " 'https://variety.com/2023/digital/news/twitter-renamed-x-elon-musk-1235677741/',\n",
       " 'https://www.independent.co.uk/arts-entertainment/tv/news/elon-musk-channel-4-documentary-b2080676.html',\n",
       " 'https://www.rollingstone.com/culture/culture-news/elon-musk-fires-twitter-engineer-1234676828/',\n",
       " 'https://www.inc.com/larry-kim/50-innovation-amp;-success-quotes-from-spacex-founder-elon-musk.html',\n",
       " 'https://www.cnn.com/2022/10/11/business/elon-musk-ian-bremmer-putin-ukraine-intl-hnk/index.html',\n",
       " 'https://www.wired.com/story/elon-musk-twitter-firehose/',\n",
       " 'https://www.businessinsider.com/elon-musk-wrong-about-fertility-rates-global-warming-demographers-say-2022-9',\n",
       " 'https://www.aroged.com/2023/10/03/elon-musk-turns-x-twitter-into-twitch-with-a-diablo-4-stream-that-didnt-go-as-well-as-it-should-have/',\n",
       " 'https://www.sfchronicle.com/bayarea/article/Elon-Musk-tweets-anti-LGBTQ-conspiracy-theory-17545123.php',\n",
       " 'https://www.cybersecurity-insiders.com/elon-musk-says-ai-machines-could-launch-their-own-cyber-attacks/',\n",
       " 'https://www.upi.com/Top_News/World-News/2023/06/01/Elon-Musk-worlds-richest-man/5171685591125/']"
      ]
     },
     "execution_count": 14,
     "metadata": {},
     "output_type": "execute_result"
    }
   ],
   "source": [
    "[image['source'] for image in inline_images]"
   ]
  },
  {
   "cell_type": "code",
   "execution_count": 16,
   "id": "233c952f",
   "metadata": {},
   "outputs": [],
   "source": [
    "# Test: do the same image search and see which URL's come up\n",
    "# --> Concern: only subset of results (ideally we'd want all)\n",
    "# Q: Is there some way to get pages?"
   ]
  },
  {
   "cell_type": "code",
   "execution_count": null,
   "id": "d2ba8c7d",
   "metadata": {},
   "outputs": [],
   "source": []
  },
  {
   "cell_type": "code",
   "execution_count": 17,
   "id": "8e841c28",
   "metadata": {},
   "outputs": [
    {
     "ename": "KeyError",
     "evalue": "'inline_images'",
     "output_type": "error",
     "traceback": [
      "\u001b[0;31m---------------------------------------------------------------------------\u001b[0m",
      "\u001b[0;31mKeyError\u001b[0m                                  Traceback (most recent call last)",
      "Cell \u001b[0;32mIn[17], line 11\u001b[0m\n\u001b[1;32m      9\u001b[0m search \u001b[38;5;241m=\u001b[39m GoogleSearch(params)\n\u001b[1;32m     10\u001b[0m results \u001b[38;5;241m=\u001b[39m search\u001b[38;5;241m.\u001b[39mget_dict()\n\u001b[0;32m---> 11\u001b[0m inline_images \u001b[38;5;241m=\u001b[39m \u001b[43mresults\u001b[49m\u001b[43m[\u001b[49m\u001b[38;5;124;43m\"\u001b[39;49m\u001b[38;5;124;43minline_images\u001b[39;49m\u001b[38;5;124;43m\"\u001b[39;49m\u001b[43m]\u001b[49m\n",
      "\u001b[0;31mKeyError\u001b[0m: 'inline_images'"
     ]
    }
   ],
   "source": [
    "from serpapi import GoogleSearch\n",
    "\n",
    "params = {\n",
    "  \"engine\": \"google_reverse_image\",\n",
    "  \"image_url\": \"./test_image.jpg\",\n",
    "  \"api_key\": \"a343725c8b3606d9a23203efab21a195b68cf064f0913b5724de9bcba1a6a7e9\"\n",
    "}\n",
    "\n",
    "search = GoogleSearch(params)\n",
    "results = search.get_dict()\n",
    "inline_images = results[\"inline_images\"]"
   ]
  },
  {
   "cell_type": "code",
   "execution_count": 18,
   "id": "d89fa46e",
   "metadata": {},
   "outputs": [
    {
     "data": {
      "text/plain": [
       "{'search_metadata': {'id': '65387b3b234884143ef0689a',\n",
       "  'status': 'Success',\n",
       "  'json_endpoint': 'https://serpapi.com/searches/aa83c7298d7285b6/65387b3b234884143ef0689a.json',\n",
       "  'created_at': '2023-10-25 02:19:39 UTC',\n",
       "  'processed_at': '2023-10-25 02:19:39 UTC',\n",
       "  'google_reverse_image_url': 'https://www.google.com/searchbyimage?image_url=./test_image.jpg&sbisrc=cr_1_5_2',\n",
       "  'raw_html_file': 'https://serpapi.com/searches/aa83c7298d7285b6/65387b3b234884143ef0689a.html',\n",
       "  'total_time_taken': 1.14},\n",
       " 'search_parameters': {'engine': 'google_reverse_image',\n",
       "  'image_url': './test_image.jpg',\n",
       "  'google_domain': 'google.com',\n",
       "  'device': 'desktop'},\n",
       " 'search_information': {'organic_results_state': 'Fully empty',\n",
       "  'query_displayed': ''},\n",
       " 'error': \"Google Reverse Image hasn't returned any results for this query.\"}"
      ]
     },
     "execution_count": 18,
     "metadata": {},
     "output_type": "execute_result"
    }
   ],
   "source": [
    "results"
   ]
  },
  {
   "cell_type": "code",
   "execution_count": null,
   "id": "6b43dd2b",
   "metadata": {},
   "outputs": [],
   "source": [
    "# --> Gives such a result above even if the url is completely wrong (e.g. \"asdfasdfasdf\")"
   ]
  },
  {
   "cell_type": "code",
   "execution_count": null,
   "id": "0cc4495f",
   "metadata": {},
   "outputs": [],
   "source": []
  },
  {
   "cell_type": "code",
   "execution_count": null,
   "id": "87c6d9a5",
   "metadata": {},
   "outputs": [],
   "source": []
  },
  {
   "cell_type": "code",
   "execution_count": 23,
   "id": "0537910a",
   "metadata": {},
   "outputs": [],
   "source": [
    "from serpapi import GoogleSearch\n",
    "\n",
    "params = {\n",
    "  \"engine\": \"google_reverse_image\",\n",
    "  \"image_url\": \"https://raw.githubusercontent.com/avliu-um/monitor_images/main/.github/images/test_image.jpg\",\n",
    "  \"api_key\": \"a343725c8b3606d9a23203efab21a195b68cf064f0913b5724de9bcba1a6a7e9\"\n",
    "}\n",
    "\n",
    "search = GoogleSearch(params)\n",
    "results = search.get_dict()\n",
    "inline_images = results[\"inline_images\"]"
   ]
  },
  {
   "cell_type": "code",
   "execution_count": 26,
   "id": "d75dcc88",
   "metadata": {
    "scrolled": true
   },
   "outputs": [
    {
     "data": {
      "text/plain": [
       "21"
      ]
     },
     "execution_count": 26,
     "metadata": {},
     "output_type": "execute_result"
    }
   ],
   "source": [
    "len(inline_images)"
   ]
  },
  {
   "cell_type": "code",
   "execution_count": null,
   "id": "0726b7f0",
   "metadata": {},
   "outputs": [],
   "source": [
    "# --> Needs to be a url that's just the image itself \n",
    "# (source: https://stackoverflow.com/questions/61537403/how-to-host-image-at-https-user-images-githubusercontent-com-path-filename)"
   ]
  },
  {
   "cell_type": "code",
   "execution_count": null,
   "id": "024e9d1c",
   "metadata": {},
   "outputs": [],
   "source": []
  },
  {
   "cell_type": "code",
   "execution_count": null,
   "id": "9aca1bd5",
   "metadata": {},
   "outputs": [],
   "source": []
  },
  {
   "cell_type": "code",
   "execution_count": 32,
   "id": "f71eb1f6",
   "metadata": {},
   "outputs": [
    {
     "ename": "KeyError",
     "evalue": "'inline_images'",
     "output_type": "error",
     "traceback": [
      "\u001b[0;31m---------------------------------------------------------------------------\u001b[0m",
      "\u001b[0;31mKeyError\u001b[0m                                  Traceback (most recent call last)",
      "Cell \u001b[0;32mIn[32], line 10\u001b[0m\n\u001b[1;32m      8\u001b[0m search \u001b[38;5;241m=\u001b[39m GoogleSearch(params)\n\u001b[1;32m      9\u001b[0m results \u001b[38;5;241m=\u001b[39m search\u001b[38;5;241m.\u001b[39mget_dict()\n\u001b[0;32m---> 10\u001b[0m inline_images \u001b[38;5;241m=\u001b[39m \u001b[43mresults\u001b[49m\u001b[43m[\u001b[49m\u001b[38;5;124;43m\"\u001b[39;49m\u001b[38;5;124;43minline_images\u001b[39;49m\u001b[38;5;124;43m\"\u001b[39;49m\u001b[43m]\u001b[49m\n",
      "\u001b[0;31mKeyError\u001b[0m: 'inline_images'"
     ]
    }
   ],
   "source": [
    "params = {\n",
    "  \"engine\": \"google_reverse_image\",\n",
    "  \"image_url\": \"https://raw.githubusercontent.com/avliu-um/monitor_images/main/.github/images/test_image.jpg\",\n",
    "  \"api_key\": \"a343725c8b3606d9a23203efab21a195b68cf064f0913b5724de9bcba1a6a7e9\",\n",
    "  \"start\": 21\n",
    "}\n",
    "\n",
    "search = GoogleSearch(params)\n",
    "results = search.get_dict()\n",
    "inline_images = results[\"inline_images\"]"
   ]
  },
  {
   "cell_type": "code",
   "execution_count": 33,
   "id": "fa2a2bc8",
   "metadata": {},
   "outputs": [],
   "source": [
    "# --> soooooo apparently there's a \"start\" param for pagination\n",
    "# However, I'm not sure how it works. According to the website, start = 0, 10, 20, etc. gives you pages 1, 2, 3, etc.\n",
    "# But the first page has 21 results? Trying 1, 10, 21, 22, 20, 2, all yield result error\n",
    "# So like what's happening?"
   ]
  },
  {
   "cell_type": "code",
   "execution_count": null,
   "id": "e5f62a62",
   "metadata": {},
   "outputs": [],
   "source": []
  },
  {
   "cell_type": "code",
   "execution_count": null,
   "id": "75c4ecd6-788a-478b-9311-0f0fbefdef24",
   "metadata": {},
   "outputs": [],
   "source": []
  },
  {
   "cell_type": "code",
   "execution_count": null,
   "id": "5f4988dd-44dd-4876-816d-8365ce9ee9f9",
   "metadata": {},
   "outputs": [],
   "source": []
  },
  {
   "cell_type": "code",
   "execution_count": 10,
   "id": "86807bf9-5ba5-4e19-8785-6ab7b044d82f",
   "metadata": {},
   "outputs": [
    {
     "name": "stdout",
     "output_type": "stream",
     "text": [
      "env: DRIVER_EXECUTABLE_PATH=/opt/homebrew/bin/chromedriver\n"
     ]
    }
   ],
   "source": [
    "%env DRIVER_EXECUTABLE_PATH=/opt/homebrew/bin/chromedriver"
   ]
  },
  {
   "cell_type": "code",
   "execution_count": 14,
   "id": "0fce4fde-215e-4133-8767-1c37513b2826",
   "metadata": {
    "scrolled": true
   },
   "outputs": [],
   "source": [
    "from scraper_util_avliu.util import get_selenium_driver\n",
    "\n",
    "driver = get_selenium_driver()"
   ]
  },
  {
   "cell_type": "code",
   "execution_count": 15,
   "id": "849bc722-a3ee-416a-98e4-5bda80f576b9",
   "metadata": {},
   "outputs": [],
   "source": [
    "from selenium.webdriver.common.by import By\n"
   ]
  },
  {
   "cell_type": "code",
   "execution_count": null,
   "id": "b83c6807-e43c-44e7-8d15-fe7a0947bfa2",
   "metadata": {},
   "outputs": [],
   "source": []
  },
  {
   "cell_type": "markdown",
   "id": "2df71158-9584-4bcc-aca9-51f98b435b52",
   "metadata": {},
   "source": [
    "# Google images"
   ]
  },
  {
   "cell_type": "code",
   "execution_count": 53,
   "id": "ccb3b8b4-feb5-4603-af12-02cacfc99421",
   "metadata": {},
   "outputs": [],
   "source": [
    "driver.get(\"https://images.google.com\") \n",
    "\n",
    "cameraicon = driver.find_element(By.CSS_SELECTOR, 'svg[class=\"Gdd5U\"]') \n",
    "cameraicon.click() \n",
    "\n",
    "upload_file = '/Users/avliu/Dropbox (University of Michigan)/projects/monitor_images/test_photo.jpg' \n",
    "\n",
    "file_input = driver.find_element(By.CSS_SELECTOR, \"input[type = 'file']\")\n",
    "file_input.send_keys(upload_file)\n",
    "#driver.find_element(By.ID, \"file-submit\").click()\n",
    "\n",
    "# \"Find image source\" --> Gives exact matches\n",
    "driver.find_element(By.CSS_SELECTOR, 'div[class=\"ICt2Q\"]').click()\n",
    "\n",
    "link_elems = driver.find_elements(By.CSS_SELECTOR, 'li a')\n",
    "\n",
    "links = [link_elem.get_attribute('href') for link_elem in link_elems]\n",
    "links"
   ]
  },
  {
   "cell_type": "code",
   "execution_count": null,
   "id": "295c9331-b9f5-42e4-a638-c510faf9269c",
   "metadata": {},
   "outputs": [],
   "source": []
  },
  {
   "cell_type": "markdown",
   "id": "fa219fe2-d038-41d1-926e-93fa9178ad5c",
   "metadata": {},
   "source": [
    "# Yandex"
   ]
  },
  {
   "cell_type": "code",
   "execution_count": 66,
   "id": "7917f9e9-fb98-4971-9223-f08bbfb7d7a4",
   "metadata": {},
   "outputs": [],
   "source": [
    "driver.get('https://yandex.com/images/')"
   ]
  },
  {
   "cell_type": "code",
   "execution_count": 67,
   "id": "e587543c-56ed-40de-9bce-d29ce36572fc",
   "metadata": {},
   "outputs": [],
   "source": [
    "good_image = '/Users/avliu/Dropbox (University of Michigan)/projects/monitor_images/test_photo.jpg'\n",
    "bad_image = '/Users/avliu/Dropbox (University of Michigan)/projects/monitor_images/my_photo.png'\n",
    "\n",
    "file_elem = driver.find_element(By.CSS_SELECTOR, \"input[type = 'file']\")\n",
    "file_elem.send_keys(bad_image)"
   ]
  },
  {
   "cell_type": "code",
   "execution_count": 76,
   "id": "bc62f031-d250-4734-8ff8-a84929c9e09f",
   "metadata": {},
   "outputs": [
    {
     "name": "stdout",
     "output_type": "stream",
     "text": [
      "False\n"
     ]
    }
   ],
   "source": [
    "# Answers the Q: Are the links we grab below exact matches or no?\n",
    "\n",
    "from selenium.common.exceptions import NoSuchElementException\n",
    "\n",
    "exact_match = True\n",
    "try:\n",
    "    driver.find_elements(By.CSS_SELECTOR, 'div[class=\"CbirOtherSizes-EmptyMessage\"]')\n",
    "    exact_match = False\n",
    "except NoSuchElementException as e:\n",
    "    pass\n",
    "\n",
    "print(exact_match)"
   ]
  },
  {
   "cell_type": "code",
   "execution_count": 64,
   "id": "1ef28990-0c3a-4b68-9f3a-a6fa56fa3535",
   "metadata": {},
   "outputs": [
    {
     "data": {
      "text/plain": [
       "['https://www.dmarge.com/jimmy-butler-rolex-pepsi',\n",
       " 'https://forum.pcekspert.com/showthread.php?p=3701382',\n",
       " 'https://busianpost.com/secrets-of-jimmy-butlers-iconic-hairstyle/?v=be7f575c3bc9',\n",
       " 'https://www.clipmax.us/2023/08/controversy-surrounds-maui-wildfires-as-claims-of-direct-energy-weapons-emerge/?feed_id=32564&_unique_id=64ef3a1184d09',\n",
       " 'https://www.dmarge.com/?Marge_-_Email_Subscribers&mc_cid=ba868cc316&mc_eid=f4b94d9a68',\n",
       " 'https://www.atinkanews.net/jimmy-butler-biography-age-net-worth-career/',\n",
       " 'https://www.complex.com/?p=108790',\n",
       " 'https://www.dmarge.com/miami-heat-jimmy-butler-new-look',\n",
       " 'https://celebjam.com/wiki/olivia-ponton-and-kai-novak-tiktok-drama-explained-did-they-breakup-tg-time/',\n",
       " 'https://tvshowstars.com/page/45/',\n",
       " 'https://ca.sports.yahoo.com/news/jimmy-butler-plans-release-debut-203000125.html',\n",
       " 'https://latestinbollywood.com/why-did-jimmy-butler-change-his-hair-public-reaction-to-jimmy-butlers-new-look/',\n",
       " 'https://noticialdia.com/deportes/apariencia-de-jimmy-butler-se-viraliza-en-redes-sociales/',\n",
       " 'https://celebjam.com/news/dear-abby-how-do-i-tell-my-roach-infested-relative-i-want-nothing-to-do-with-them/',\n",
       " 'https://allbasketball.org/289213-drjejmond-grin-trjej-jang-vzjal-na-sebja-rol-zlodeja.html',\n",
       " 'https://faceitstats.com/player/ReQ_sniper',\n",
       " 'https://sport.pibig.info/17329-kandidat-v-basketbolisty.html',\n",
       " 'https://faceitstats.com/match/1-72c3e600-64bc-4b92-96dd-78b03359af1a?highlight=mazzyss',\n",
       " 'https://www.faceit.com/en/teams/521c4277-c98c-4bce-82c8-3aef15fe7ff5/stats',\n",
       " 'https://www.msn.com/en-us/sports/nba/damian-lillard-reveals-conversation-with-jimmy-butler-after-heat-trade-fell-apart/ar-AA1iNes8',\n",
       " 'https://bolavip.com/en/rss/feed',\n",
       " 'https://www.championat.com/basketball/news-5265434-zhurnalist-rasskazal-kak-v-majami-otreagirovali-na-povedenie-batlera-vo-vremya-mediadnya.html',\n",
       " 'https://www.barstoolsports.com/blog/3487582/there-is-simply-no-way-98.9percent-of-the-heat-organization-was-uncomfortable-with-emo-jimmy-butler-at-media-day',\n",
       " 'https://hypebeast.com/tw/2023/10/jimmy-butler-miami-heat-media-day-new-hair-cut',\n",
       " 'https://screamermagazine.com/news/article/wolfgang-van-halen-reveals-only-way-hed-cover-van-halen-songs',\n",
       " 'https://z94.com/ixp/366/p/nba-jimmy-butler-emo-hair-media-day-photos/',\n",
       " 'https://rock967online.com/ixp/366/p/nba-jimmy-butler-emo-hair-media-day-photos/',\n",
       " 'https://www.msn.com/en-us/sports/nba/was-that-jimmy-butler-or-jared-leto-at-heat-media-day/ar-AA1hB5DU',\n",
       " 'https://pagesix.com/2023/10/10/jimmy-butlers-teammates-are-thinking-about-holiday-gifts/amp/',\n",
       " 'https://pagesix.com/2023/10/10/jimmy-butlers-teammates-are-thinking-about-holiday-gifts/']"
      ]
     },
     "execution_count": 64,
     "metadata": {},
     "output_type": "execute_result"
    }
   ],
   "source": [
    "link_elems = driver.find_elements(By.CSS_SELECTOR, 'li[class=\"CbirSites-Item\"] div[class=\"CbirSites-ItemTitle\"] a')\n",
    "links = [link_elem.get_attribute('href') for link_elem in link_elems]\n",
    "links"
   ]
  },
  {
   "cell_type": "code",
   "execution_count": null,
   "id": "92b5fe4d-893f-4355-912c-2e29b895a892",
   "metadata": {},
   "outputs": [],
   "source": []
  },
  {
   "cell_type": "code",
   "execution_count": null,
   "id": "b83675e4-c6c0-41cb-8a42-587349d6361a",
   "metadata": {},
   "outputs": [],
   "source": [
    "# TODO: Containerize"
   ]
  }
 ],
 "metadata": {
  "kernelspec": {
   "display_name": "env",
   "language": "python",
   "name": "env"
  },
  "language_info": {
   "codemirror_mode": {
    "name": "ipython",
    "version": 3
   },
   "file_extension": ".py",
   "mimetype": "text/x-python",
   "name": "python",
   "nbconvert_exporter": "python",
   "pygments_lexer": "ipython3",
   "version": "3.10.10"
  }
 },
 "nbformat": 4,
 "nbformat_minor": 5
}
