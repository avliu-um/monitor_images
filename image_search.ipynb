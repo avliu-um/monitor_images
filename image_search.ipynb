{
 "cells": [
  {
   "cell_type": "code",
   "execution_count": 6,
   "id": "f56f3c92",
   "metadata": {
    "scrolled": false
   },
   "outputs": [
    {
     "name": "stdout",
     "output_type": "stream",
     "text": [
      "Collecting google-search-results\n",
      "  Downloading google_search_results-2.4.2.tar.gz (18 kB)\n",
      "  Installing build dependencies ... \u001b[?25ldone\n",
      "\u001b[?25h  Getting requirements to build wheel ... \u001b[?25ldone\n",
      "\u001b[?25h  Preparing metadata (pyproject.toml) ... \u001b[?25ldone\n",
      "\u001b[?25hRequirement already satisfied: requests in /Users/avliu/Dropbox (University of Michigan)/projects/ev/env/lib/python3.10/site-packages (from google-search-results) (2.31.0)\n",
      "Requirement already satisfied: charset-normalizer<4,>=2 in /Users/avliu/Dropbox (University of Michigan)/projects/ev/env/lib/python3.10/site-packages (from requests->google-search-results) (3.1.0)\n",
      "Requirement already satisfied: idna<4,>=2.5 in /Users/avliu/Dropbox (University of Michigan)/projects/ev/env/lib/python3.10/site-packages (from requests->google-search-results) (3.4)\n",
      "Requirement already satisfied: urllib3<3,>=1.21.1 in /Users/avliu/Dropbox (University of Michigan)/projects/ev/env/lib/python3.10/site-packages (from requests->google-search-results) (1.26.16)\n",
      "Requirement already satisfied: certifi>=2017.4.17 in /Users/avliu/Dropbox (University of Michigan)/projects/ev/env/lib/python3.10/site-packages (from requests->google-search-results) (2023.5.7)\n",
      "Building wheels for collected packages: google-search-results\n",
      "  Building wheel for google-search-results (pyproject.toml) ... \u001b[?25ldone\n",
      "\u001b[?25h  Created wheel for google-search-results: filename=google_search_results-2.4.2-py3-none-any.whl size=32003 sha256=eed1b9251250c9d1a73eb6766afb2ecaba78fd64ce8b8dc805087e93d251c95f\n",
      "  Stored in directory: /Users/avliu/Library/Caches/pip/wheels/d3/b2/c3/03302d12bb44a2cdff3c9371f31b72c0c4e84b8d2285eeac53\n",
      "Successfully built google-search-results\n",
      "Installing collected packages: google-search-results\n",
      "Successfully installed google-search-results-2.4.2\n",
      "\n",
      "\u001b[1m[\u001b[0m\u001b[34;49mnotice\u001b[0m\u001b[1;39;49m]\u001b[0m\u001b[39;49m A new release of pip is available: \u001b[0m\u001b[31;49m23.2.1\u001b[0m\u001b[39;49m -> \u001b[0m\u001b[32;49m23.3\u001b[0m\n",
      "\u001b[1m[\u001b[0m\u001b[34;49mnotice\u001b[0m\u001b[1;39;49m]\u001b[0m\u001b[39;49m To update, run: \u001b[0m\u001b[32;49mpython -m pip install --upgrade pip\u001b[0m\n",
      "Note: you may need to restart the kernel to use updated packages.\n"
     ]
    }
   ],
   "source": [
    "pip install google-search-results"
   ]
  },
  {
   "cell_type": "code",
   "execution_count": null,
   "id": "5d39e9f9",
   "metadata": {},
   "outputs": [],
   "source": []
  },
  {
   "cell_type": "code",
   "execution_count": null,
   "id": "a5045546",
   "metadata": {},
   "outputs": [],
   "source": []
  },
  {
   "cell_type": "code",
   "execution_count": null,
   "id": "8b950be5",
   "metadata": {},
   "outputs": [],
   "source": []
  },
  {
   "cell_type": "code",
   "execution_count": 9,
   "id": "a1a277dd",
   "metadata": {},
   "outputs": [],
   "source": [
    "from serpapi import GoogleSearch\n",
    "\n",
    "params = {\n",
    "  \"engine\": \"google_reverse_image\",\n",
    "  \"image_url\": \"https://i.imgur.com/5bGzZi7.jpg\",\n",
    "  \"api_key\": \"a343725c8b3606d9a23203efab21a195b68cf064f0913b5724de9bcba1a6a7e9\"\n",
    "}\n",
    "\n",
    "search = GoogleSearch(params)\n",
    "results = search.get_dict()\n",
    "inline_images = results[\"inline_images\"]"
   ]
  },
  {
   "cell_type": "code",
   "execution_count": 11,
   "id": "2ec7b43b",
   "metadata": {},
   "outputs": [
    {
     "data": {
      "text/plain": [
       "[{'link': 'https://www.google.com/search?sca_esv=576343061&tbs=simg%3ACAESmQIJxucrg1834YoajQILEKjU2AQaBggXCD0IQgwLELCMpwgaOgo4CAQSFIsypCSLL4o7rSzEB-4a7Ru_1CdUzGhq1iS6IOv4B1V4VYveWFTMDMADBgMY0g9FvkiAFMAQMCxCOrv4IGgoKCAgBEgSEmJxlDAsQne3BCRqeAQocCglnZW50bGVtYW7apYj2AwsKCS9tLzAxOXA1cQoYCgVldmVudNqliPYDCwoJL20vMDgxcGtqCiAKDHNtYXJ0IGNhc3VhbNqliPYDDAoKL20vMDI1c2t6NwogCg1ubyBleHByZXNzaW9u2qWI9gMLCgkvai85X2JocG4KIAoNc29waGlzdGljYXRlZNqliPYDCwoJL2EvNjlseW53DA&q=elon+musk&tbm=isch&sa=X&ved=2ahUKEwiXoMPNi5CCAxWVVKQEHTSpBWIQ5r0BegQIDBAA#imgrc=uXxZTQ65RqOpKM',\n",
       "  'source': 'https://www.bloomberg.com/news/articles/2022-12-30/elon-musk-becomes-first-person-ever-to-lose-200-billion',\n",
       "  'thumbnail': 'https://serpapi.com/searches/65387524f26ac64a7d4c6573/images/a4cb6bd5ecdec4cef4800ced7218bf612fccf6476a8de7cceb8f33724c7e6cbd.jpeg'},\n",
       " {'link': 'https://www.google.com/search?sca_esv=576343061&tbs=simg%3ACAESmQIJxucrg1834YoajQILEKjU2AQaBggXCD0IQgwLELCMpwgaOgo4CAQSFIsypCSLL4o7rSzEB-4a7Ru_1CdUzGhq1iS6IOv4B1V4VYveWFTMDMADBgMY0g9FvkiAFMAQMCxCOrv4IGgoKCAgBEgSEmJxlDAsQne3BCRqeAQocCglnZW50bGVtYW7apYj2AwsKCS9tLzAxOXA1cQoYCgVldmVudNqliPYDCwoJL20vMDgxcGtqCiAKDHNtYXJ0IGNhc3VhbNqliPYDDAoKL20vMDI1c2t6NwogCg1ubyBleHByZXNzaW9u2qWI9gMLCgkvai85X2JocG4KIAoNc29waGlzdGljYXRlZNqliPYDCwoJL2EvNjlseW53DA&q=elon+musk&tbm=isch&sa=X&ved=2ahUKEwiXoMPNi5CCAxWVVKQEHTSpBWIQ5r0BegQIHxAA#imgrc=UfQCv4EVFd_GgM',\n",
       "  'source': 'https://www.cnbc.com/2021/02/01/elon-musk-on-clubhouse-i-am-a-supporter-of-bitcoin.html',\n",
       "  'thumbnail': 'https://serpapi.com/searches/65387524f26ac64a7d4c6573/images/a4cb6bd5ecdec4cec8e82516257cee4cef869829637f9fb30822cd4de111bd9c.jpeg'},\n",
       " {'link': 'https://www.google.com/search?sca_esv=576343061&tbs=simg%3ACAESmQIJxucrg1834YoajQILEKjU2AQaBggXCD0IQgwLELCMpwgaOgo4CAQSFIsypCSLL4o7rSzEB-4a7Ru_1CdUzGhq1iS6IOv4B1V4VYveWFTMDMADBgMY0g9FvkiAFMAQMCxCOrv4IGgoKCAgBEgSEmJxlDAsQne3BCRqeAQocCglnZW50bGVtYW7apYj2AwsKCS9tLzAxOXA1cQoYCgVldmVudNqliPYDCwoJL20vMDgxcGtqCiAKDHNtYXJ0IGNhc3VhbNqliPYDDAoKL20vMDI1c2t6NwogCg1ubyBleHByZXNzaW9u2qWI9gMLCgkvai85X2JocG4KIAoNc29waGlzdGljYXRlZNqliPYDCwoJL2EvNjlseW53DA&q=elon+musk&tbm=isch&sa=X&ved=2ahUKEwiXoMPNi5CCAxWVVKQEHTSpBWIQ5r0BegQIDhAA#imgrc=ohPDc2jzVsdeVM',\n",
       "  'source': 'https://www.lemonde.fr/en/economy/article/2022/12/12/elon-musk-believes-he-can-do-everything-at-once-send-men-into-space-and-relaunch-twitter_6007471_19.html',\n",
       "  'thumbnail': 'https://serpapi.com/searches/65387524f26ac64a7d4c6573/images/a4cb6bd5ecdec4ce66844b5888686e874fab4549b835638ae32d4e5218f19806.jpeg'},\n",
       " {'link': 'https://www.google.com/search?sca_esv=576343061&tbs=simg%3ACAESmQIJxucrg1834YoajQILEKjU2AQaBggXCD0IQgwLELCMpwgaOgo4CAQSFIsypCSLL4o7rSzEB-4a7Ru_1CdUzGhq1iS6IOv4B1V4VYveWFTMDMADBgMY0g9FvkiAFMAQMCxCOrv4IGgoKCAgBEgSEmJxlDAsQne3BCRqeAQocCglnZW50bGVtYW7apYj2AwsKCS9tLzAxOXA1cQoYCgVldmVudNqliPYDCwoJL20vMDgxcGtqCiAKDHNtYXJ0IGNhc3VhbNqliPYDDAoKL20vMDI1c2t6NwogCg1ubyBleHByZXNzaW9u2qWI9gMLCgkvai85X2JocG4KIAoNc29waGlzdGljYXRlZNqliPYDCwoJL2EvNjlseW53DA&q=elon+musk&tbm=isch&sa=X&ved=2ahUKEwiXoMPNi5CCAxWVVKQEHTSpBWIQ5r0BegQIGRAA#imgrc=hQKMVBwV-MrsiM',\n",
       "  'source': 'https://www.wikiwand.com/en/Elon_Musk',\n",
       "  'thumbnail': 'https://serpapi.com/searches/65387524f26ac64a7d4c6573/images/a4cb6bd5ecdec4cec1fe13c0c444002582eae1a0ebdb21ad2fc010c83d61db7d.jpeg'},\n",
       " {'link': 'https://www.google.com/search?sca_esv=576343061&tbs=simg%3ACAESmQIJxucrg1834YoajQILEKjU2AQaBggXCD0IQgwLELCMpwgaOgo4CAQSFIsypCSLL4o7rSzEB-4a7Ru_1CdUzGhq1iS6IOv4B1V4VYveWFTMDMADBgMY0g9FvkiAFMAQMCxCOrv4IGgoKCAgBEgSEmJxlDAsQne3BCRqeAQocCglnZW50bGVtYW7apYj2AwsKCS9tLzAxOXA1cQoYCgVldmVudNqliPYDCwoJL20vMDgxcGtqCiAKDHNtYXJ0IGNhc3VhbNqliPYDDAoKL20vMDI1c2t6NwogCg1ubyBleHByZXNzaW9u2qWI9gMLCgkvai85X2JocG4KIAoNc29waGlzdGljYXRlZNqliPYDCwoJL2EvNjlseW53DA&q=elon+musk&tbm=isch&sa=X&ved=2ahUKEwiXoMPNi5CCAxWVVKQEHTSpBWIQ5r0BegQIIBAA#imgrc=pU4Nj724kIeE_M',\n",
       "  'source': 'https://news.sky.com/story/elon-musk-asks-twitter-followers-if-he-should-bring-back-vine-12734905',\n",
       "  'thumbnail': 'https://serpapi.com/searches/65387524f26ac64a7d4c6573/images/a4cb6bd5ecdec4cecac7c148cd541656baf3518815326882019ebde382b3a03e.jpeg'},\n",
       " {'link': 'https://www.google.com/search?sca_esv=576343061&tbs=simg%3ACAESmQIJxucrg1834YoajQILEKjU2AQaBggXCD0IQgwLELCMpwgaOgo4CAQSFIsypCSLL4o7rSzEB-4a7Ru_1CdUzGhq1iS6IOv4B1V4VYveWFTMDMADBgMY0g9FvkiAFMAQMCxCOrv4IGgoKCAgBEgSEmJxlDAsQne3BCRqeAQocCglnZW50bGVtYW7apYj2AwsKCS9tLzAxOXA1cQoYCgVldmVudNqliPYDCwoJL20vMDgxcGtqCiAKDHNtYXJ0IGNhc3VhbNqliPYDDAoKL20vMDI1c2t6NwogCg1ubyBleHByZXNzaW9u2qWI9gMLCgkvai85X2JocG4KIAoNc29waGlzdGljYXRlZNqliPYDCwoJL2EvNjlseW53DA&q=elon+musk&tbm=isch&sa=X&ved=2ahUKEwiXoMPNi5CCAxWVVKQEHTSpBWIQ5r0BegQIJBAA#imgrc=vQ0qFGZd2WQpIM',\n",
       "  'source': 'https://www.vox.com/identities/2019/9/30/20891314/elon-musk-tesla-labor-violation-nlrb',\n",
       "  'thumbnail': 'https://serpapi.com/searches/65387524f26ac64a7d4c6573/images/a4cb6bd5ecdec4ceb892444b82e31da11a7021e5e53d86a118330cf9a23b50e4.jpeg'},\n",
       " {'link': 'https://www.google.com/search?sca_esv=576343061&tbs=simg%3ACAESmQIJxucrg1834YoajQILEKjU2AQaBggXCD0IQgwLELCMpwgaOgo4CAQSFIsypCSLL4o7rSzEB-4a7Ru_1CdUzGhq1iS6IOv4B1V4VYveWFTMDMADBgMY0g9FvkiAFMAQMCxCOrv4IGgoKCAgBEgSEmJxlDAsQne3BCRqeAQocCglnZW50bGVtYW7apYj2AwsKCS9tLzAxOXA1cQoYCgVldmVudNqliPYDCwoJL20vMDgxcGtqCiAKDHNtYXJ0IGNhc3VhbNqliPYDDAoKL20vMDI1c2t6NwogCg1ubyBleHByZXNzaW9u2qWI9gMLCgkvai85X2JocG4KIAoNc29waGlzdGljYXRlZNqliPYDCwoJL2EvNjlseW53DA&q=elon+musk&tbm=isch&sa=X&ved=2ahUKEwiXoMPNi5CCAxWVVKQEHTSpBWIQ5r0BegQIDxAA#imgrc=cH_vj190DfzMeM',\n",
       "  'source': 'https://www.wsj.com/articles/elon-musk-says-twitter-bid-cant-move-forward-without-more-clarity-on-fake-accounts-11652775337',\n",
       "  'thumbnail': 'https://serpapi.com/searches/65387524f26ac64a7d4c6573/images/a4cb6bd5ecdec4ce87dd3b06a2062754c2d55da8a37e48008c264cc1a48f4d61.jpeg'},\n",
       " {'link': 'https://www.google.com/search?sca_esv=576343061&tbs=simg%3ACAESmQIJxucrg1834YoajQILEKjU2AQaBggXCD0IQgwLELCMpwgaOgo4CAQSFIsypCSLL4o7rSzEB-4a7Ru_1CdUzGhq1iS6IOv4B1V4VYveWFTMDMADBgMY0g9FvkiAFMAQMCxCOrv4IGgoKCAgBEgSEmJxlDAsQne3BCRqeAQocCglnZW50bGVtYW7apYj2AwsKCS9tLzAxOXA1cQoYCgVldmVudNqliPYDCwoJL20vMDgxcGtqCiAKDHNtYXJ0IGNhc3VhbNqliPYDDAoKL20vMDI1c2t6NwogCg1ubyBleHByZXNzaW9u2qWI9gMLCgkvai85X2JocG4KIAoNc29waGlzdGljYXRlZNqliPYDCwoJL2EvNjlseW53DA&q=elon+musk&tbm=isch&sa=X&ved=2ahUKEwiXoMPNi5CCAxWVVKQEHTSpBWIQ5r0BegQIFRAA#imgrc=_4gbYHBn94hiBM',\n",
       "  'source': 'https://www.npr.org/2022/11/21/1138064606/elon-musk-twitter-investors-fans',\n",
       "  'thumbnail': 'https://serpapi.com/searches/65387524f26ac64a7d4c6573/images/a4cb6bd5ecdec4ce96a0d7371d81f02634a9c0e6199a9af1fc1d9d9597576de0.jpeg'},\n",
       " {'link': 'https://www.google.com/search?sca_esv=576343061&tbs=simg%3ACAESmQIJxucrg1834YoajQILEKjU2AQaBggXCD0IQgwLELCMpwgaOgo4CAQSFIsypCSLL4o7rSzEB-4a7Ru_1CdUzGhq1iS6IOv4B1V4VYveWFTMDMADBgMY0g9FvkiAFMAQMCxCOrv4IGgoKCAgBEgSEmJxlDAsQne3BCRqeAQocCglnZW50bGVtYW7apYj2AwsKCS9tLzAxOXA1cQoYCgVldmVudNqliPYDCwoJL20vMDgxcGtqCiAKDHNtYXJ0IGNhc3VhbNqliPYDDAoKL20vMDI1c2t6NwogCg1ubyBleHByZXNzaW9u2qWI9gMLCgkvai85X2JocG4KIAoNc29waGlzdGljYXRlZNqliPYDCwoJL2EvNjlseW53DA&q=elon+musk&tbm=isch&sa=X&ved=2ahUKEwiXoMPNi5CCAxWVVKQEHTSpBWIQ5r0BegQIGxAA#imgrc=4IUYNGbzpeE6oM',\n",
       "  'source': 'https://www.cnbc.com/2023/05/15/elon-musk-still-needs-twitter-sitter-judge-rules.html',\n",
       "  'thumbnail': 'https://serpapi.com/searches/65387524f26ac64a7d4c6573/images/a4cb6bd5ecdec4cea1f58a59d0be368039f89721bd5686620b87d60b6ffb2fbd.jpeg'},\n",
       " {'link': 'https://www.google.com/search?sca_esv=576343061&tbs=simg%3ACAESmQIJxucrg1834YoajQILEKjU2AQaBggXCD0IQgwLELCMpwgaOgo4CAQSFIsypCSLL4o7rSzEB-4a7Ru_1CdUzGhq1iS6IOv4B1V4VYveWFTMDMADBgMY0g9FvkiAFMAQMCxCOrv4IGgoKCAgBEgSEmJxlDAsQne3BCRqeAQocCglnZW50bGVtYW7apYj2AwsKCS9tLzAxOXA1cQoYCgVldmVudNqliPYDCwoJL20vMDgxcGtqCiAKDHNtYXJ0IGNhc3VhbNqliPYDDAoKL20vMDI1c2t6NwogCg1ubyBleHByZXNzaW9u2qWI9gMLCgkvai85X2JocG4KIAoNc29waGlzdGljYXRlZNqliPYDCwoJL2EvNjlseW53DA&q=elon+musk&tbm=isch&sa=X&ved=2ahUKEwiXoMPNi5CCAxWVVKQEHTSpBWIQ5r0BegQIHhAA#imgrc=HdBXrokQzywNQM',\n",
       "  'source': 'https://finance.yahoo.com/news/elon-musk-says-neuralink-only-194031375.html',\n",
       "  'thumbnail': 'https://serpapi.com/searches/65387524f26ac64a7d4c6573/images/a4cb6bd5ecdec4cee23a123e855ad4678cdccf8d884e5332fc23db33f27389ab.jpeg'},\n",
       " {'link': 'https://www.google.com/search?sca_esv=576343061&tbs=simg%3ACAESmQIJxucrg1834YoajQILEKjU2AQaBggXCD0IQgwLELCMpwgaOgo4CAQSFIsypCSLL4o7rSzEB-4a7Ru_1CdUzGhq1iS6IOv4B1V4VYveWFTMDMADBgMY0g9FvkiAFMAQMCxCOrv4IGgoKCAgBEgSEmJxlDAsQne3BCRqeAQocCglnZW50bGVtYW7apYj2AwsKCS9tLzAxOXA1cQoYCgVldmVudNqliPYDCwoJL20vMDgxcGtqCiAKDHNtYXJ0IGNhc3VhbNqliPYDDAoKL20vMDI1c2t6NwogCg1ubyBleHByZXNzaW9u2qWI9gMLCgkvai85X2JocG4KIAoNc29waGlzdGljYXRlZNqliPYDCwoJL2EvNjlseW53DA&q=elon+musk&tbm=isch&sa=X&ved=2ahUKEwiXoMPNi5CCAxWVVKQEHTSpBWIQ5r0BegQIIRAA#imgrc=7aJX4omZxtL0CM',\n",
       "  'source': 'https://variety.com/2023/digital/news/twitter-renamed-x-elon-musk-1235677741/',\n",
       "  'thumbnail': 'https://serpapi.com/searches/65387524f26ac64a7d4c6573/images/a4cb6bd5ecdec4cee03bc080846c8f4de63ca0ffccda58b3e3617294e4dc3cfe.jpeg'},\n",
       " {'link': 'https://www.google.com/search?sca_esv=576343061&tbs=simg%3ACAESmQIJxucrg1834YoajQILEKjU2AQaBggXCD0IQgwLELCMpwgaOgo4CAQSFIsypCSLL4o7rSzEB-4a7Ru_1CdUzGhq1iS6IOv4B1V4VYveWFTMDMADBgMY0g9FvkiAFMAQMCxCOrv4IGgoKCAgBEgSEmJxlDAsQne3BCRqeAQocCglnZW50bGVtYW7apYj2AwsKCS9tLzAxOXA1cQoYCgVldmVudNqliPYDCwoJL20vMDgxcGtqCiAKDHNtYXJ0IGNhc3VhbNqliPYDDAoKL20vMDI1c2t6NwogCg1ubyBleHByZXNzaW9u2qWI9gMLCgkvai85X2JocG4KIAoNc29waGlzdGljYXRlZNqliPYDCwoJL2EvNjlseW53DA&q=elon+musk&tbm=isch&sa=X&ved=2ahUKEwiXoMPNi5CCAxWVVKQEHTSpBWIQ5r0BegQIIhAA#imgrc=dtuTMZJ7FGhi-M',\n",
       "  'source': 'https://www.independent.co.uk/arts-entertainment/tv/news/elon-musk-channel-4-documentary-b2080676.html',\n",
       "  'thumbnail': 'https://serpapi.com/searches/65387524f26ac64a7d4c6573/images/a4cb6bd5ecdec4ce842a813b69dbd4c81dc18411d78012b90a76a1ca5912c54d.jpeg'},\n",
       " {'link': 'https://www.google.com/search?sca_esv=576343061&tbs=simg%3ACAESmQIJxucrg1834YoajQILEKjU2AQaBggXCD0IQgwLELCMpwgaOgo4CAQSFIsypCSLL4o7rSzEB-4a7Ru_1CdUzGhq1iS6IOv4B1V4VYveWFTMDMADBgMY0g9FvkiAFMAQMCxCOrv4IGgoKCAgBEgSEmJxlDAsQne3BCRqeAQocCglnZW50bGVtYW7apYj2AwsKCS9tLzAxOXA1cQoYCgVldmVudNqliPYDCwoJL20vMDgxcGtqCiAKDHNtYXJ0IGNhc3VhbNqliPYDDAoKL20vMDI1c2t6NwogCg1ubyBleHByZXNzaW9u2qWI9gMLCgkvai85X2JocG4KIAoNc29waGlzdGljYXRlZNqliPYDCwoJL2EvNjlseW53DA&q=elon+musk&tbm=isch&sa=X&ved=2ahUKEwiXoMPNi5CCAxWVVKQEHTSpBWIQ5r0BegQIJRAA#imgrc=0QSxvLP6LEv-CM',\n",
       "  'source': 'https://www.rollingstone.com/culture/culture-news/elon-musk-fires-twitter-engineer-1234676828/',\n",
       "  'thumbnail': 'https://serpapi.com/searches/65387524f26ac64a7d4c6573/images/a4cb6bd5ecdec4ce6beb2933c078bc4272455c4c5b78d8bc3540d5d00f45f354.jpeg'},\n",
       " {'link': 'https://www.google.com/search?sca_esv=576343061&tbs=simg%3ACAESmQIJxucrg1834YoajQILEKjU2AQaBggXCD0IQgwLELCMpwgaOgo4CAQSFIsypCSLL4o7rSzEB-4a7Ru_1CdUzGhq1iS6IOv4B1V4VYveWFTMDMADBgMY0g9FvkiAFMAQMCxCOrv4IGgoKCAgBEgSEmJxlDAsQne3BCRqeAQocCglnZW50bGVtYW7apYj2AwsKCS9tLzAxOXA1cQoYCgVldmVudNqliPYDCwoJL20vMDgxcGtqCiAKDHNtYXJ0IGNhc3VhbNqliPYDDAoKL20vMDI1c2t6NwogCg1ubyBleHByZXNzaW9u2qWI9gMLCgkvai85X2JocG4KIAoNc29waGlzdGljYXRlZNqliPYDCwoJL2EvNjlseW53DA&q=elon+musk&tbm=isch&sa=X&ved=2ahUKEwiXoMPNi5CCAxWVVKQEHTSpBWIQ5r0BegQIIxAA#imgrc=razgLnbxUfBrgM',\n",
       "  'source': 'https://www.inc.com/larry-kim/50-innovation-amp;-success-quotes-from-spacex-founder-elon-musk.html',\n",
       "  'thumbnail': 'https://serpapi.com/searches/65387524f26ac64a7d4c6573/images/a4cb6bd5ecdec4cec18d298b4592fbb6409bc423127cffc9d923c00116072945.jpeg'},\n",
       " {'link': 'https://www.google.com/search?sca_esv=576343061&tbs=simg%3ACAESmQIJxucrg1834YoajQILEKjU2AQaBggXCD0IQgwLELCMpwgaOgo4CAQSFIsypCSLL4o7rSzEB-4a7Ru_1CdUzGhq1iS6IOv4B1V4VYveWFTMDMADBgMY0g9FvkiAFMAQMCxCOrv4IGgoKCAgBEgSEmJxlDAsQne3BCRqeAQocCglnZW50bGVtYW7apYj2AwsKCS9tLzAxOXA1cQoYCgVldmVudNqliPYDCwoJL20vMDgxcGtqCiAKDHNtYXJ0IGNhc3VhbNqliPYDDAoKL20vMDI1c2t6NwogCg1ubyBleHByZXNzaW9u2qWI9gMLCgkvai85X2JocG4KIAoNc29waGlzdGljYXRlZNqliPYDCwoJL2EvNjlseW53DA&q=elon+musk&tbm=isch&sa=X&ved=2ahUKEwiXoMPNi5CCAxWVVKQEHTSpBWIQ5r0BegQIEhAA#imgrc=tZR5GUkjeVH9_M',\n",
       "  'source': 'https://www.cnn.com/2022/10/11/business/elon-musk-ian-bremmer-putin-ukraine-intl-hnk/index.html',\n",
       "  'thumbnail': 'https://serpapi.com/searches/65387524f26ac64a7d4c6573/images/a4cb6bd5ecdec4ce618b75e0a53efde7d2da0fccba27d0eef03ad7ec87d610ea.jpeg'},\n",
       " {'link': 'https://www.google.com/search?sca_esv=576343061&tbs=simg%3ACAESmQIJxucrg1834YoajQILEKjU2AQaBggXCD0IQgwLELCMpwgaOgo4CAQSFIsypCSLL4o7rSzEB-4a7Ru_1CdUzGhq1iS6IOv4B1V4VYveWFTMDMADBgMY0g9FvkiAFMAQMCxCOrv4IGgoKCAgBEgSEmJxlDAsQne3BCRqeAQocCglnZW50bGVtYW7apYj2AwsKCS9tLzAxOXA1cQoYCgVldmVudNqliPYDCwoJL20vMDgxcGtqCiAKDHNtYXJ0IGNhc3VhbNqliPYDDAoKL20vMDI1c2t6NwogCg1ubyBleHByZXNzaW9u2qWI9gMLCgkvai85X2JocG4KIAoNc29waGlzdGljYXRlZNqliPYDCwoJL2EvNjlseW53DA&q=elon+musk&tbm=isch&sa=X&ved=2ahUKEwiXoMPNi5CCAxWVVKQEHTSpBWIQ5r0BegQIExAA#imgrc=hrH02jDhiHzL9M',\n",
       "  'source': 'https://www.wired.com/story/elon-musk-twitter-firehose/',\n",
       "  'thumbnail': 'https://serpapi.com/searches/65387524f26ac64a7d4c6573/images/a4cb6bd5ecdec4cec15a6506d9507c89c562de370e7fe32de8519383b5bda540.jpeg'},\n",
       " {'link': 'https://www.google.com/search?sca_esv=576343061&tbs=simg%3ACAESmQIJxucrg1834YoajQILEKjU2AQaBggXCD0IQgwLELCMpwgaOgo4CAQSFIsypCSLL4o7rSzEB-4a7Ru_1CdUzGhq1iS6IOv4B1V4VYveWFTMDMADBgMY0g9FvkiAFMAQMCxCOrv4IGgoKCAgBEgSEmJxlDAsQne3BCRqeAQocCglnZW50bGVtYW7apYj2AwsKCS9tLzAxOXA1cQoYCgVldmVudNqliPYDCwoJL20vMDgxcGtqCiAKDHNtYXJ0IGNhc3VhbNqliPYDDAoKL20vMDI1c2t6NwogCg1ubyBleHByZXNzaW9u2qWI9gMLCgkvai85X2JocG4KIAoNc29waGlzdGljYXRlZNqliPYDCwoJL2EvNjlseW53DA&q=elon+musk&tbm=isch&sa=X&ved=2ahUKEwiXoMPNi5CCAxWVVKQEHTSpBWIQ5r0BegQIFxAA#imgrc=BTm661nq50oAcM',\n",
       "  'source': 'https://www.businessinsider.com/elon-musk-wrong-about-fertility-rates-global-warming-demographers-say-2022-9',\n",
       "  'thumbnail': 'https://serpapi.com/searches/65387524f26ac64a7d4c6573/images/a4cb6bd5ecdec4ce566ada84edc35338eca1a8d55eab146f60ba1cddf8418b88.jpeg'},\n",
       " {'link': 'https://www.google.com/search?sca_esv=576343061&tbs=simg%3ACAESmQIJxucrg1834YoajQILEKjU2AQaBggXCD0IQgwLELCMpwgaOgo4CAQSFIsypCSLL4o7rSzEB-4a7Ru_1CdUzGhq1iS6IOv4B1V4VYveWFTMDMADBgMY0g9FvkiAFMAQMCxCOrv4IGgoKCAgBEgSEmJxlDAsQne3BCRqeAQocCglnZW50bGVtYW7apYj2AwsKCS9tLzAxOXA1cQoYCgVldmVudNqliPYDCwoJL20vMDgxcGtqCiAKDHNtYXJ0IGNhc3VhbNqliPYDDAoKL20vMDI1c2t6NwogCg1ubyBleHByZXNzaW9u2qWI9gMLCgkvai85X2JocG4KIAoNc29waGlzdGljYXRlZNqliPYDCwoJL2EvNjlseW53DA&q=elon+musk&tbm=isch&sa=X&ved=2ahUKEwiXoMPNi5CCAxWVVKQEHTSpBWIQ5r0BegQIGhAA#imgrc=XDptjmPygzjQfM',\n",
       "  'source': 'https://www.aroged.com/2023/10/03/elon-musk-turns-x-twitter-into-twitch-with-a-diablo-4-stream-that-didnt-go-as-well-as-it-should-have/',\n",
       "  'thumbnail': 'https://serpapi.com/searches/65387524f26ac64a7d4c6573/images/a4cb6bd5ecdec4cec268f22016ab0d2e0fd1ff308a829dd0a61ebacd7e027931.jpeg'},\n",
       " {'link': 'https://www.google.com/search?sca_esv=576343061&tbs=simg%3ACAESmQIJxucrg1834YoajQILEKjU2AQaBggXCD0IQgwLELCMpwgaOgo4CAQSFIsypCSLL4o7rSzEB-4a7Ru_1CdUzGhq1iS6IOv4B1V4VYveWFTMDMADBgMY0g9FvkiAFMAQMCxCOrv4IGgoKCAgBEgSEmJxlDAsQne3BCRqeAQocCglnZW50bGVtYW7apYj2AwsKCS9tLzAxOXA1cQoYCgVldmVudNqliPYDCwoJL20vMDgxcGtqCiAKDHNtYXJ0IGNhc3VhbNqliPYDDAoKL20vMDI1c2t6NwogCg1ubyBleHByZXNzaW9u2qWI9gMLCgkvai85X2JocG4KIAoNc29waGlzdGljYXRlZNqliPYDCwoJL2EvNjlseW53DA&q=elon+musk&tbm=isch&sa=X&ved=2ahUKEwiXoMPNi5CCAxWVVKQEHTSpBWIQ5r0BegQIHRAA#imgrc=KnITRoec8M9PZM',\n",
       "  'source': 'https://www.sfchronicle.com/bayarea/article/Elon-Musk-tweets-anti-LGBTQ-conspiracy-theory-17545123.php',\n",
       "  'thumbnail': 'https://serpapi.com/searches/65387524f26ac64a7d4c6573/images/a4cb6bd5ecdec4cedacb98e2ef8f3c1f87eb4f75663bd8c7b6668c490d1b95ac.jpeg'},\n",
       " {'link': 'https://www.google.com/search?sca_esv=576343061&tbs=simg%3ACAESmQIJxucrg1834YoajQILEKjU2AQaBggXCD0IQgwLELCMpwgaOgo4CAQSFIsypCSLL4o7rSzEB-4a7Ru_1CdUzGhq1iS6IOv4B1V4VYveWFTMDMADBgMY0g9FvkiAFMAQMCxCOrv4IGgoKCAgBEgSEmJxlDAsQne3BCRqeAQocCglnZW50bGVtYW7apYj2AwsKCS9tLzAxOXA1cQoYCgVldmVudNqliPYDCwoJL20vMDgxcGtqCiAKDHNtYXJ0IGNhc3VhbNqliPYDDAoKL20vMDI1c2t6NwogCg1ubyBleHByZXNzaW9u2qWI9gMLCgkvai85X2JocG4KIAoNc29waGlzdGljYXRlZNqliPYDCwoJL2EvNjlseW53DA&q=elon+musk&tbm=isch&sa=X&ved=2ahUKEwiXoMPNi5CCAxWVVKQEHTSpBWIQ5r0BegQIGBAA#imgrc=SdnNAjbDoz4QJM',\n",
       "  'source': 'https://www.cybersecurity-insiders.com/elon-musk-says-ai-machines-could-launch-their-own-cyber-attacks/',\n",
       "  'thumbnail': 'https://serpapi.com/searches/65387524f26ac64a7d4c6573/images/a4cb6bd5ecdec4ceba11e80e9cc4e4e55477c4bd547356880344c6c559bf3788.jpeg'},\n",
       " {'link': 'https://www.google.com/search?sca_esv=576343061&tbs=simg%3ACAESmQIJxucrg1834YoajQILEKjU2AQaBggXCD0IQgwLELCMpwgaOgo4CAQSFIsypCSLL4o7rSzEB-4a7Ru_1CdUzGhq1iS6IOv4B1V4VYveWFTMDMADBgMY0g9FvkiAFMAQMCxCOrv4IGgoKCAgBEgSEmJxlDAsQne3BCRqeAQocCglnZW50bGVtYW7apYj2AwsKCS9tLzAxOXA1cQoYCgVldmVudNqliPYDCwoJL20vMDgxcGtqCiAKDHNtYXJ0IGNhc3VhbNqliPYDDAoKL20vMDI1c2t6NwogCg1ubyBleHByZXNzaW9u2qWI9gMLCgkvai85X2JocG4KIAoNc29waGlzdGljYXRlZNqliPYDCwoJL2EvNjlseW53DA&q=elon+musk&tbm=isch&sa=X&ved=2ahUKEwiXoMPNi5CCAxWVVKQEHTSpBWIQ5r0BegQIChAA#imgrc=Ld47mA7NLYo0AM',\n",
       "  'source': 'https://www.upi.com/Top_News/World-News/2023/06/01/Elon-Musk-worlds-richest-man/5171685591125/',\n",
       "  'thumbnail': 'https://serpapi.com/searches/65387524f26ac64a7d4c6573/images/a4cb6bd5ecdec4ce3da0d09eee553267b1be79d92db204dc479ff418b05d5f06.jpeg'}]"
      ]
     },
     "execution_count": 11,
     "metadata": {},
     "output_type": "execute_result"
    }
   ],
   "source": [
    "inline_images"
   ]
  },
  {
   "cell_type": "code",
   "execution_count": 12,
   "id": "d938abc7",
   "metadata": {},
   "outputs": [
    {
     "data": {
      "text/plain": [
       "21"
      ]
     },
     "execution_count": 12,
     "metadata": {},
     "output_type": "execute_result"
    }
   ],
   "source": [
    "len(inline_images)"
   ]
  },
  {
   "cell_type": "code",
   "execution_count": 14,
   "id": "26321d95",
   "metadata": {},
   "outputs": [
    {
     "data": {
      "text/plain": [
       "['https://www.bloomberg.com/news/articles/2022-12-30/elon-musk-becomes-first-person-ever-to-lose-200-billion',\n",
       " 'https://www.cnbc.com/2021/02/01/elon-musk-on-clubhouse-i-am-a-supporter-of-bitcoin.html',\n",
       " 'https://www.lemonde.fr/en/economy/article/2022/12/12/elon-musk-believes-he-can-do-everything-at-once-send-men-into-space-and-relaunch-twitter_6007471_19.html',\n",
       " 'https://www.wikiwand.com/en/Elon_Musk',\n",
       " 'https://news.sky.com/story/elon-musk-asks-twitter-followers-if-he-should-bring-back-vine-12734905',\n",
       " 'https://www.vox.com/identities/2019/9/30/20891314/elon-musk-tesla-labor-violation-nlrb',\n",
       " 'https://www.wsj.com/articles/elon-musk-says-twitter-bid-cant-move-forward-without-more-clarity-on-fake-accounts-11652775337',\n",
       " 'https://www.npr.org/2022/11/21/1138064606/elon-musk-twitter-investors-fans',\n",
       " 'https://www.cnbc.com/2023/05/15/elon-musk-still-needs-twitter-sitter-judge-rules.html',\n",
       " 'https://finance.yahoo.com/news/elon-musk-says-neuralink-only-194031375.html',\n",
       " 'https://variety.com/2023/digital/news/twitter-renamed-x-elon-musk-1235677741/',\n",
       " 'https://www.independent.co.uk/arts-entertainment/tv/news/elon-musk-channel-4-documentary-b2080676.html',\n",
       " 'https://www.rollingstone.com/culture/culture-news/elon-musk-fires-twitter-engineer-1234676828/',\n",
       " 'https://www.inc.com/larry-kim/50-innovation-amp;-success-quotes-from-spacex-founder-elon-musk.html',\n",
       " 'https://www.cnn.com/2022/10/11/business/elon-musk-ian-bremmer-putin-ukraine-intl-hnk/index.html',\n",
       " 'https://www.wired.com/story/elon-musk-twitter-firehose/',\n",
       " 'https://www.businessinsider.com/elon-musk-wrong-about-fertility-rates-global-warming-demographers-say-2022-9',\n",
       " 'https://www.aroged.com/2023/10/03/elon-musk-turns-x-twitter-into-twitch-with-a-diablo-4-stream-that-didnt-go-as-well-as-it-should-have/',\n",
       " 'https://www.sfchronicle.com/bayarea/article/Elon-Musk-tweets-anti-LGBTQ-conspiracy-theory-17545123.php',\n",
       " 'https://www.cybersecurity-insiders.com/elon-musk-says-ai-machines-could-launch-their-own-cyber-attacks/',\n",
       " 'https://www.upi.com/Top_News/World-News/2023/06/01/Elon-Musk-worlds-richest-man/5171685591125/']"
      ]
     },
     "execution_count": 14,
     "metadata": {},
     "output_type": "execute_result"
    }
   ],
   "source": [
    "[image['source'] for image in inline_images]"
   ]
  },
  {
   "cell_type": "code",
   "execution_count": 16,
   "id": "151e1b62",
   "metadata": {},
   "outputs": [],
   "source": [
    "# Test: do the same image search and see which URL's come up\n",
    "# --> Concern: only subset of results (ideally we'd want all)"
   ]
  },
  {
   "cell_type": "code",
   "execution_count": null,
   "id": "dcfac69c",
   "metadata": {},
   "outputs": [],
   "source": []
  },
  {
   "cell_type": "code",
   "execution_count": 17,
   "id": "73ec09f7",
   "metadata": {},
   "outputs": [
    {
     "ename": "KeyError",
     "evalue": "'inline_images'",
     "output_type": "error",
     "traceback": [
      "\u001b[0;31m---------------------------------------------------------------------------\u001b[0m",
      "\u001b[0;31mKeyError\u001b[0m                                  Traceback (most recent call last)",
      "Cell \u001b[0;32mIn[17], line 11\u001b[0m\n\u001b[1;32m      9\u001b[0m search \u001b[38;5;241m=\u001b[39m GoogleSearch(params)\n\u001b[1;32m     10\u001b[0m results \u001b[38;5;241m=\u001b[39m search\u001b[38;5;241m.\u001b[39mget_dict()\n\u001b[0;32m---> 11\u001b[0m inline_images \u001b[38;5;241m=\u001b[39m \u001b[43mresults\u001b[49m\u001b[43m[\u001b[49m\u001b[38;5;124;43m\"\u001b[39;49m\u001b[38;5;124;43minline_images\u001b[39;49m\u001b[38;5;124;43m\"\u001b[39;49m\u001b[43m]\u001b[49m\n",
      "\u001b[0;31mKeyError\u001b[0m: 'inline_images'"
     ]
    }
   ],
   "source": [
    "from serpapi import GoogleSearch\n",
    "\n",
    "params = {\n",
    "  \"engine\": \"google_reverse_image\",\n",
    "  \"image_url\": \"./test_image.jpg\",\n",
    "  \"api_key\": \"a343725c8b3606d9a23203efab21a195b68cf064f0913b5724de9bcba1a6a7e9\"\n",
    "}\n",
    "\n",
    "search = GoogleSearch(params)\n",
    "results = search.get_dict()\n",
    "inline_images = results[\"inline_images\"]"
   ]
  },
  {
   "cell_type": "code",
   "execution_count": 18,
   "id": "51d77bf3",
   "metadata": {},
   "outputs": [
    {
     "data": {
      "text/plain": [
       "{'search_metadata': {'id': '65387b3b234884143ef0689a',\n",
       "  'status': 'Success',\n",
       "  'json_endpoint': 'https://serpapi.com/searches/aa83c7298d7285b6/65387b3b234884143ef0689a.json',\n",
       "  'created_at': '2023-10-25 02:19:39 UTC',\n",
       "  'processed_at': '2023-10-25 02:19:39 UTC',\n",
       "  'google_reverse_image_url': 'https://www.google.com/searchbyimage?image_url=./test_image.jpg&sbisrc=cr_1_5_2',\n",
       "  'raw_html_file': 'https://serpapi.com/searches/aa83c7298d7285b6/65387b3b234884143ef0689a.html',\n",
       "  'total_time_taken': 1.14},\n",
       " 'search_parameters': {'engine': 'google_reverse_image',\n",
       "  'image_url': './test_image.jpg',\n",
       "  'google_domain': 'google.com',\n",
       "  'device': 'desktop'},\n",
       " 'search_information': {'organic_results_state': 'Fully empty',\n",
       "  'query_displayed': ''},\n",
       " 'error': \"Google Reverse Image hasn't returned any results for this query.\"}"
      ]
     },
     "execution_count": 18,
     "metadata": {},
     "output_type": "execute_result"
    }
   ],
   "source": [
    "results"
   ]
  },
  {
   "cell_type": "code",
   "execution_count": null,
   "id": "3626a38a",
   "metadata": {},
   "outputs": [],
   "source": []
  },
  {
   "cell_type": "code",
   "execution_count": 19,
   "id": "e1a434bd",
   "metadata": {},
   "outputs": [
    {
     "ename": "KeyError",
     "evalue": "'inline_images'",
     "output_type": "error",
     "traceback": [
      "\u001b[0;31m---------------------------------------------------------------------------\u001b[0m",
      "\u001b[0;31mKeyError\u001b[0m                                  Traceback (most recent call last)",
      "Cell \u001b[0;32mIn[19], line 11\u001b[0m\n\u001b[1;32m      9\u001b[0m search \u001b[38;5;241m=\u001b[39m GoogleSearch(params)\n\u001b[1;32m     10\u001b[0m results \u001b[38;5;241m=\u001b[39m search\u001b[38;5;241m.\u001b[39mget_dict()\n\u001b[0;32m---> 11\u001b[0m inline_images \u001b[38;5;241m=\u001b[39m \u001b[43mresults\u001b[49m\u001b[43m[\u001b[49m\u001b[38;5;124;43m\"\u001b[39;49m\u001b[38;5;124;43minline_images\u001b[39;49m\u001b[38;5;124;43m\"\u001b[39;49m\u001b[43m]\u001b[49m\n",
      "\u001b[0;31mKeyError\u001b[0m: 'inline_images'"
     ]
    }
   ],
   "source": [
    "from serpapi import GoogleSearch\n",
    "\n",
    "params = {\n",
    "  \"engine\": \"google_reverse_image\",\n",
    "  \"image_url\": \"asdf\",\n",
    "  \"api_key\": \"a343725c8b3606d9a23203efab21a195b68cf064f0913b5724de9bcba1a6a7e9\"\n",
    "}\n",
    "\n",
    "search = GoogleSearch(params)\n",
    "results = search.get_dict()\n",
    "inline_images = results[\"inline_images\"]"
   ]
  },
  {
   "cell_type": "code",
   "execution_count": 20,
   "id": "dea334f7",
   "metadata": {},
   "outputs": [
    {
     "data": {
      "text/plain": [
       "{'search_metadata': {'id': '65387b94ca968f98efc685b4',\n",
       "  'status': 'Success',\n",
       "  'json_endpoint': 'https://serpapi.com/searches/782692b8e9d021e3/65387b94ca968f98efc685b4.json',\n",
       "  'created_at': '2023-10-25 02:21:08 UTC',\n",
       "  'processed_at': '2023-10-25 02:21:08 UTC',\n",
       "  'google_reverse_image_url': 'https://www.google.com/searchbyimage?image_url=asdf&sbisrc=cr_1_5_2',\n",
       "  'raw_html_file': 'https://serpapi.com/searches/782692b8e9d021e3/65387b94ca968f98efc685b4.html',\n",
       "  'total_time_taken': 3.68},\n",
       " 'search_parameters': {'engine': 'google_reverse_image',\n",
       "  'image_url': 'asdf',\n",
       "  'google_domain': 'google.com',\n",
       "  'device': 'desktop'},\n",
       " 'search_information': {'organic_results_state': 'Fully empty',\n",
       "  'query_displayed': ''},\n",
       " 'error': \"Google Reverse Image hasn't returned any results for this query.\"}"
      ]
     },
     "execution_count": 20,
     "metadata": {},
     "output_type": "execute_result"
    }
   ],
   "source": [
    "results"
   ]
  },
  {
   "cell_type": "code",
   "execution_count": null,
   "id": "d784f09a",
   "metadata": {},
   "outputs": [],
   "source": []
  }
 ],
 "metadata": {
  "kernelspec": {
   "display_name": "env",
   "language": "python",
   "name": "env"
  },
  "language_info": {
   "codemirror_mode": {
    "name": "ipython",
    "version": 3
   },
   "file_extension": ".py",
   "mimetype": "text/x-python",
   "name": "python",
   "nbconvert_exporter": "python",
   "pygments_lexer": "ipython3",
   "version": "3.10.10"
  }
 },
 "nbformat": 4,
 "nbformat_minor": 5
}
